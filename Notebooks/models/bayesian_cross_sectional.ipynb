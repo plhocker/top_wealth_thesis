{
 "cells": [
  {
   "cell_type": "markdown",
   "metadata": {},
   "source": [
    "# Bayesian Cross Sectional Models"
   ]
  },
  {
   "cell_type": "markdown",
   "metadata": {},
   "source": [
    "This notebook investigates the fit and parameter estimates of Bayesian models. We try the following three distributions:\n",
    "- Pareto\n",
    "- Weibull\n",
    "- Generalised Pareto"
   ]
  },
  {
   "cell_type": "markdown",
   "metadata": {},
   "source": [
    "### Imports"
   ]
  },
  {
   "cell_type": "code",
   "execution_count": 1,
   "metadata": {},
   "outputs": [
    {
     "name": "stderr",
     "output_type": "stream",
     "text": [
      "WARNING (pytensor.tensor.blas): Using NumPy C-API based implementation for BLAS functions.\n"
     ]
    }
   ],
   "source": [
    "import numpy as np\n",
    "import pandas as pd\n",
    "import matplotlib.pyplot as plt\n",
    "import seaborn as sns\n",
    "import pymc as pm\n",
    "import arviz as az\n",
    "import dill\n",
    "import os"
   ]
  },
  {
   "cell_type": "code",
   "execution_count": 2,
   "metadata": {},
   "outputs": [],
   "source": [
    "# Self made modules\n",
    "from thesis_tools.utils.data import *\n",
    "from thesis_tools.statistical_tests.tests import *\n",
    "from thesis_tools.models.bayesian_univariate_cross_sectional import *\n",
    "from thesis_tools.models.bayesian_multivariate_cross_sectional import *"
   ]
  },
  {
   "cell_type": "markdown",
   "metadata": {},
   "source": [
    "### Estimation"
   ]
  },
  {
   "cell_type": "code",
   "execution_count": 3,
   "metadata": {},
   "outputs": [
    {
     "data": {
      "text/plain": [
       "250"
      ]
     },
     "execution_count": 3,
     "metadata": {},
     "output_type": "execute_result"
    }
   ],
   "source": [
    "df = read_panel_data(observations_threshold=20)\n",
    "len(df)"
   ]
  },
  {
   "cell_type": "code",
   "execution_count": 4,
   "metadata": {},
   "outputs": [],
   "source": [
    "def train_or_retrieve_model(panel_df:pd.DataFrame, group:str, year:int, model_type:str, retrain_if_saved=False):\n",
    "    model_name = f\"{model_type}_{group}_{year}\"\n",
    "    model_path = f\"../../Stored_Models/bayesian_univariate_cross_sectional/{model_name}.pkl\"\n",
    "    if os.path.exists(model_path) and not retrain_if_saved:\n",
    "        with open(model_path, \"rb\") as f:\n",
    "            model = dill.load(f)\n",
    "    else:\n",
    "        y_data = np.array(panel_df[(panel_df['year'] == year) & (panel_df['group'] == group)]['net_worth'].iloc[0])\n",
    "        if model_type == 'Pareto':\n",
    "            model = Pareto_One_Stage(y_data)\n",
    "        elif model_type == 'Weibull':\n",
    "            model = Weibull_One_Stage(y_data)\n",
    "        elif model_type == 'GeneralisedPareto':\n",
    "            model = GeneralisedPareto_One_Stage(y_data)\n",
    "        model.fit()\n",
    "        with open(model_path, \"wb\") as f:\n",
    "            dill.dump(model, f)\n",
    "    return model"
   ]
  },
  {
   "cell_type": "code",
   "execution_count": 5,
   "metadata": {},
   "outputs": [
    {
     "name": "stdout",
     "output_type": "stream",
     "text": [
      "Trained model for Alps in 2013 using Pareto distribution\n",
      "Trained model for Alps in 2013 using Weibull distribution\n",
      "Trained model for Alps in 2013 using GeneralisedPareto distribution\n",
      "Trained model for Alps in 2014 using Pareto distribution\n",
      "Trained model for Alps in 2014 using Weibull distribution\n",
      "Trained model for Alps in 2014 using GeneralisedPareto distribution\n",
      "Trained model for Alps in 2015 using Pareto distribution\n",
      "Trained model for Alps in 2015 using Weibull distribution\n",
      "Trained model for Alps in 2015 using GeneralisedPareto distribution\n",
      "Trained model for Alps in 2016 using Pareto distribution\n",
      "Trained model for Alps in 2016 using Weibull distribution\n",
      "Trained model for Alps in 2016 using GeneralisedPareto distribution\n",
      "Trained model for Alps in 2017 using Pareto distribution\n",
      "Trained model for Alps in 2017 using Weibull distribution\n",
      "Trained model for Alps in 2017 using GeneralisedPareto distribution\n",
      "Trained model for Alps in 2018 using Pareto distribution\n",
      "Trained model for Alps in 2018 using Weibull distribution\n",
      "Trained model for Alps in 2018 using GeneralisedPareto distribution\n",
      "Trained model for Alps in 2019 using Pareto distribution\n",
      "Trained model for Alps in 2019 using Weibull distribution\n",
      "Trained model for Alps in 2019 using GeneralisedPareto distribution\n",
      "Trained model for Alps in 2020 using Pareto distribution\n",
      "Trained model for Alps in 2020 using Weibull distribution\n",
      "Trained model for Alps in 2020 using GeneralisedPareto distribution\n",
      "Trained model for Alps in 2021 using Pareto distribution\n",
      "Trained model for Alps in 2021 using Weibull distribution\n",
      "Trained model for Alps in 2021 using GeneralisedPareto distribution\n",
      "Trained model for Alps in 2022 using Pareto distribution\n",
      "Trained model for Alps in 2022 using Weibull distribution\n",
      "Trained model for Alps in 2022 using GeneralisedPareto distribution\n",
      "Trained model for Asian Islands in 2010 using Pareto distribution\n",
      "Trained model for Asian Islands in 2010 using Weibull distribution\n",
      "Trained model for Asian Islands in 2010 using GeneralisedPareto distribution\n",
      "Trained model for Asian Islands in 2011 using Pareto distribution\n",
      "Trained model for Asian Islands in 2011 using Weibull distribution\n",
      "Trained model for Asian Islands in 2011 using GeneralisedPareto distribution\n",
      "Trained model for Asian Islands in 2012 using Pareto distribution\n",
      "Trained model for Asian Islands in 2012 using Weibull distribution\n",
      "Trained model for Asian Islands in 2012 using GeneralisedPareto distribution\n",
      "Trained model for Asian Islands in 2013 using Pareto distribution\n",
      "Trained model for Asian Islands in 2013 using Weibull distribution\n",
      "Trained model for Asian Islands in 2013 using GeneralisedPareto distribution\n",
      "Trained model for Asian Islands in 2014 using Pareto distribution\n",
      "Trained model for Asian Islands in 2014 using Weibull distribution\n",
      "Trained model for Asian Islands in 2014 using GeneralisedPareto distribution\n",
      "Trained model for Asian Islands in 2015 using Pareto distribution\n",
      "Trained model for Asian Islands in 2015 using Weibull distribution\n",
      "Trained model for Asian Islands in 2015 using GeneralisedPareto distribution\n",
      "Trained model for Asian Islands in 2016 using Pareto distribution\n",
      "Trained model for Asian Islands in 2016 using Weibull distribution\n",
      "Trained model for Asian Islands in 2016 using GeneralisedPareto distribution\n",
      "Trained model for Asian Islands in 2017 using Pareto distribution\n",
      "Trained model for Asian Islands in 2017 using Weibull distribution\n",
      "Trained model for Asian Islands in 2017 using GeneralisedPareto distribution\n",
      "Trained model for Asian Islands in 2018 using Pareto distribution\n",
      "Trained model for Asian Islands in 2018 using Weibull distribution\n",
      "Trained model for Asian Islands in 2018 using GeneralisedPareto distribution\n",
      "Trained model for Asian Islands in 2019 using Pareto distribution\n",
      "Trained model for Asian Islands in 2019 using Weibull distribution\n",
      "Trained model for Asian Islands in 2019 using GeneralisedPareto distribution\n",
      "Trained model for Asian Islands in 2020 using Pareto distribution\n",
      "Trained model for Asian Islands in 2020 using Weibull distribution\n",
      "Trained model for Asian Islands in 2020 using GeneralisedPareto distribution\n",
      "Trained model for Asian Islands in 2021 using Pareto distribution\n",
      "Trained model for Asian Islands in 2021 using Weibull distribution\n",
      "Trained model for Asian Islands in 2021 using GeneralisedPareto distribution\n",
      "Trained model for Asian Islands in 2022 using Pareto distribution\n",
      "Trained model for Asian Islands in 2022 using Weibull distribution\n",
      "Trained model for Asian Islands in 2022 using GeneralisedPareto distribution\n",
      "Trained model for Australia in 2013 using Pareto distribution\n",
      "Trained model for Australia in 2013 using Weibull distribution\n",
      "Trained model for Australia in 2013 using GeneralisedPareto distribution\n",
      "Trained model for Australia in 2014 using Pareto distribution\n",
      "Trained model for Australia in 2014 using Weibull distribution\n",
      "Trained model for Australia in 2014 using GeneralisedPareto distribution\n",
      "Trained model for Australia in 2015 using Pareto distribution\n",
      "Trained model for Australia in 2015 using Weibull distribution\n",
      "Trained model for Australia in 2015 using GeneralisedPareto distribution\n",
      "Trained model for Australia in 2016 using Pareto distribution\n",
      "Trained model for Australia in 2016 using Weibull distribution\n",
      "Trained model for Australia in 2016 using GeneralisedPareto distribution\n",
      "Trained model for Australia in 2017 using Pareto distribution\n",
      "Trained model for Australia in 2017 using Weibull distribution\n",
      "Trained model for Australia in 2017 using GeneralisedPareto distribution\n",
      "Trained model for Australia in 2018 using Pareto distribution\n",
      "Trained model for Australia in 2018 using Weibull distribution\n",
      "Trained model for Australia in 2018 using GeneralisedPareto distribution\n",
      "Trained model for Australia in 2019 using Pareto distribution\n",
      "Trained model for Australia in 2019 using Weibull distribution\n",
      "Trained model for Australia in 2019 using GeneralisedPareto distribution\n",
      "Trained model for Australia in 2020 using Pareto distribution\n",
      "Trained model for Australia in 2020 using Weibull distribution\n",
      "Trained model for Australia in 2020 using GeneralisedPareto distribution\n",
      "Trained model for Australia in 2021 using Pareto distribution\n",
      "Trained model for Australia in 2021 using Weibull distribution\n",
      "Trained model for Australia in 2021 using GeneralisedPareto distribution\n",
      "Trained model for Australia in 2022 using Pareto distribution\n",
      "Trained model for Australia in 2022 using Weibull distribution\n",
      "Trained model for Australia in 2022 using GeneralisedPareto distribution\n",
      "Trained model for Brazil in 2011 using Pareto distribution\n",
      "Trained model for Brazil in 2011 using Weibull distribution\n",
      "Trained model for Brazil in 2011 using GeneralisedPareto distribution\n",
      "Trained model for Brazil in 2012 using Pareto distribution\n",
      "Trained model for Brazil in 2012 using Weibull distribution\n",
      "Trained model for Brazil in 2012 using GeneralisedPareto distribution\n",
      "Trained model for Brazil in 2013 using Pareto distribution\n",
      "Trained model for Brazil in 2013 using Weibull distribution\n",
      "Trained model for Brazil in 2013 using GeneralisedPareto distribution\n",
      "Trained model for Brazil in 2014 using Pareto distribution\n",
      "Trained model for Brazil in 2014 using Weibull distribution\n",
      "Trained model for Brazil in 2014 using GeneralisedPareto distribution\n",
      "Trained model for Brazil in 2015 using Pareto distribution\n",
      "Trained model for Brazil in 2015 using Weibull distribution\n",
      "Trained model for Brazil in 2015 using GeneralisedPareto distribution\n",
      "Trained model for Brazil in 2016 using Pareto distribution\n",
      "Trained model for Brazil in 2016 using Weibull distribution\n",
      "Trained model for Brazil in 2016 using GeneralisedPareto distribution\n",
      "Trained model for Brazil in 2017 using Pareto distribution\n",
      "Trained model for Brazil in 2017 using Weibull distribution\n",
      "Trained model for Brazil in 2017 using GeneralisedPareto distribution\n",
      "Trained model for Brazil in 2018 using Pareto distribution\n",
      "Trained model for Brazil in 2018 using Weibull distribution\n",
      "Trained model for Brazil in 2018 using GeneralisedPareto distribution\n",
      "Trained model for Brazil in 2019 using Pareto distribution\n",
      "Trained model for Brazil in 2019 using Weibull distribution\n",
      "Trained model for Brazil in 2019 using GeneralisedPareto distribution\n",
      "Trained model for Brazil in 2020 using Pareto distribution\n",
      "Trained model for Brazil in 2020 using Weibull distribution\n",
      "Trained model for Brazil in 2020 using GeneralisedPareto distribution\n",
      "Trained model for Brazil in 2021 using Pareto distribution\n",
      "Trained model for Brazil in 2021 using Weibull distribution\n",
      "Trained model for Brazil in 2021 using GeneralisedPareto distribution\n",
      "Trained model for Brazil in 2022 using Pareto distribution\n",
      "Trained model for Brazil in 2022 using Weibull distribution\n",
      "Trained model for Brazil in 2022 using GeneralisedPareto distribution\n",
      "Trained model for British Islands in 2006 using Pareto distribution\n",
      "Trained model for British Islands in 2006 using Weibull distribution\n",
      "Trained model for British Islands in 2006 using GeneralisedPareto distribution\n",
      "Trained model for British Islands in 2007 using Pareto distribution\n",
      "Trained model for British Islands in 2007 using Weibull distribution\n",
      "Trained model for British Islands in 2007 using GeneralisedPareto distribution\n",
      "Trained model for British Islands in 2008 using Pareto distribution\n",
      "Trained model for British Islands in 2008 using Weibull distribution\n",
      "Trained model for British Islands in 2008 using GeneralisedPareto distribution\n",
      "Trained model for British Islands in 2009 using Pareto distribution\n",
      "Trained model for British Islands in 2009 using Weibull distribution\n",
      "Trained model for British Islands in 2009 using GeneralisedPareto distribution\n",
      "Trained model for British Islands in 2010 using Pareto distribution\n",
      "Trained model for British Islands in 2010 using Weibull distribution\n",
      "Trained model for British Islands in 2010 using GeneralisedPareto distribution\n",
      "Trained model for British Islands in 2011 using Pareto distribution\n",
      "Trained model for British Islands in 2011 using Weibull distribution\n",
      "Trained model for British Islands in 2011 using GeneralisedPareto distribution\n",
      "Trained model for British Islands in 2012 using Pareto distribution\n",
      "Trained model for British Islands in 2012 using Weibull distribution\n",
      "Trained model for British Islands in 2012 using GeneralisedPareto distribution\n",
      "Trained model for British Islands in 2013 using Pareto distribution\n",
      "Trained model for British Islands in 2013 using Weibull distribution\n",
      "Trained model for British Islands in 2013 using GeneralisedPareto distribution\n",
      "Trained model for British Islands in 2014 using Pareto distribution\n",
      "Trained model for British Islands in 2014 using Weibull distribution\n",
      "Trained model for British Islands in 2014 using GeneralisedPareto distribution\n",
      "Trained model for British Islands in 2015 using Pareto distribution\n",
      "Trained model for British Islands in 2015 using Weibull distribution\n",
      "Trained model for British Islands in 2015 using GeneralisedPareto distribution\n",
      "Trained model for British Islands in 2016 using Pareto distribution\n",
      "Trained model for British Islands in 2016 using Weibull distribution\n",
      "Trained model for British Islands in 2016 using GeneralisedPareto distribution\n",
      "Trained model for British Islands in 2017 using Pareto distribution\n",
      "Trained model for British Islands in 2017 using Weibull distribution\n",
      "Trained model for British Islands in 2017 using GeneralisedPareto distribution\n",
      "Trained model for British Islands in 2018 using Pareto distribution\n",
      "Trained model for British Islands in 2018 using Weibull distribution\n",
      "Trained model for British Islands in 2018 using GeneralisedPareto distribution\n",
      "Trained model for British Islands in 2019 using Pareto distribution\n",
      "Trained model for British Islands in 2019 using Weibull distribution\n",
      "Trained model for British Islands in 2019 using GeneralisedPareto distribution\n",
      "Trained model for British Islands in 2020 using Pareto distribution\n",
      "Trained model for British Islands in 2020 using Weibull distribution\n",
      "Trained model for British Islands in 2020 using GeneralisedPareto distribution\n",
      "Trained model for British Islands in 2021 using Pareto distribution\n",
      "Trained model for British Islands in 2021 using Weibull distribution\n",
      "Trained model for British Islands in 2021 using GeneralisedPareto distribution\n",
      "Trained model for British Islands in 2022 using Pareto distribution\n",
      "Trained model for British Islands in 2022 using Weibull distribution\n",
      "Trained model for British Islands in 2022 using GeneralisedPareto distribution\n",
      "Trained model for Canada in 2010 using Pareto distribution\n",
      "Trained model for Canada in 2010 using Weibull distribution\n",
      "Trained model for Canada in 2010 using GeneralisedPareto distribution\n",
      "Trained model for Canada in 2011 using Pareto distribution\n",
      "Trained model for Canada in 2011 using Weibull distribution\n",
      "Trained model for Canada in 2011 using GeneralisedPareto distribution\n",
      "Trained model for Canada in 2012 using Pareto distribution\n",
      "Trained model for Canada in 2012 using Weibull distribution\n",
      "Trained model for Canada in 2012 using GeneralisedPareto distribution\n",
      "Trained model for Canada in 2013 using Pareto distribution\n",
      "Trained model for Canada in 2013 using Weibull distribution\n",
      "Trained model for Canada in 2013 using GeneralisedPareto distribution\n",
      "Trained model for Canada in 2014 using Pareto distribution\n",
      "Trained model for Canada in 2014 using Weibull distribution\n",
      "Trained model for Canada in 2014 using GeneralisedPareto distribution\n",
      "Trained model for Canada in 2015 using Pareto distribution\n",
      "Trained model for Canada in 2015 using Weibull distribution\n",
      "Trained model for Canada in 2015 using GeneralisedPareto distribution\n",
      "Trained model for Canada in 2016 using Pareto distribution\n",
      "Trained model for Canada in 2016 using Weibull distribution\n",
      "Trained model for Canada in 2016 using GeneralisedPareto distribution\n",
      "Trained model for Canada in 2017 using Pareto distribution\n",
      "Trained model for Canada in 2017 using Weibull distribution\n",
      "Trained model for Canada in 2017 using GeneralisedPareto distribution\n",
      "Trained model for Canada in 2018 using Pareto distribution\n",
      "Trained model for Canada in 2018 using Weibull distribution\n",
      "Trained model for Canada in 2018 using GeneralisedPareto distribution\n",
      "Trained model for Canada in 2019 using Pareto distribution\n",
      "Trained model for Canada in 2019 using Weibull distribution\n",
      "Trained model for Canada in 2019 using GeneralisedPareto distribution\n",
      "Trained model for Canada in 2020 using Pareto distribution\n",
      "Trained model for Canada in 2020 using Weibull distribution\n",
      "Trained model for Canada in 2020 using GeneralisedPareto distribution\n",
      "Trained model for Canada in 2021 using Pareto distribution\n",
      "Trained model for Canada in 2021 using Weibull distribution\n",
      "Trained model for Canada in 2021 using GeneralisedPareto distribution\n",
      "Trained model for Canada in 2022 using Pareto distribution\n",
      "Trained model for Canada in 2022 using Weibull distribution\n",
      "Trained model for Canada in 2022 using GeneralisedPareto distribution\n",
      "Trained model for China in 2006 using Pareto distribution\n",
      "Trained model for China in 2006 using Weibull distribution\n",
      "Trained model for China in 2006 using GeneralisedPareto distribution\n",
      "Trained model for China in 2007 using Pareto distribution\n",
      "Trained model for China in 2007 using Weibull distribution\n",
      "Trained model for China in 2007 using GeneralisedPareto distribution\n",
      "Trained model for China in 2008 using Pareto distribution\n",
      "Trained model for China in 2008 using Weibull distribution\n",
      "Trained model for China in 2008 using GeneralisedPareto distribution\n",
      "Trained model for China in 2009 using Pareto distribution\n",
      "Trained model for China in 2009 using Weibull distribution\n",
      "Trained model for China in 2009 using GeneralisedPareto distribution\n",
      "Trained model for China in 2010 using Pareto distribution\n",
      "Trained model for China in 2010 using Weibull distribution\n",
      "Trained model for China in 2010 using GeneralisedPareto distribution\n",
      "Trained model for China in 2011 using Pareto distribution\n",
      "Trained model for China in 2011 using Weibull distribution\n",
      "Trained model for China in 2011 using GeneralisedPareto distribution\n",
      "Trained model for China in 2012 using Pareto distribution\n",
      "Trained model for China in 2012 using Weibull distribution\n",
      "Trained model for China in 2012 using GeneralisedPareto distribution\n",
      "Trained model for China in 2013 using Pareto distribution\n",
      "Trained model for China in 2013 using Weibull distribution\n",
      "Trained model for China in 2013 using GeneralisedPareto distribution\n",
      "Trained model for China in 2014 using Pareto distribution\n",
      "Trained model for China in 2014 using Weibull distribution\n",
      "Trained model for China in 2014 using GeneralisedPareto distribution\n",
      "Trained model for China in 2015 using Pareto distribution\n",
      "Trained model for China in 2015 using Weibull distribution\n",
      "Trained model for China in 2015 using GeneralisedPareto distribution\n",
      "Trained model for China in 2016 using Pareto distribution\n",
      "Trained model for China in 2016 using Weibull distribution\n",
      "Trained model for China in 2016 using GeneralisedPareto distribution\n",
      "Trained model for China in 2017 using Pareto distribution\n",
      "Trained model for China in 2017 using Weibull distribution\n",
      "Trained model for China in 2017 using GeneralisedPareto distribution\n",
      "Trained model for China in 2018 using Pareto distribution\n",
      "Trained model for China in 2018 using Weibull distribution\n",
      "Trained model for China in 2018 using GeneralisedPareto distribution\n",
      "Trained model for China in 2019 using Pareto distribution\n",
      "Trained model for China in 2019 using Weibull distribution\n",
      "Trained model for China in 2019 using GeneralisedPareto distribution\n",
      "Trained model for China in 2020 using Pareto distribution\n",
      "Trained model for China in 2020 using Weibull distribution\n",
      "Trained model for China in 2020 using GeneralisedPareto distribution\n",
      "Trained model for China in 2021 using Pareto distribution\n",
      "Trained model for China in 2021 using Weibull distribution\n",
      "Trained model for China in 2021 using GeneralisedPareto distribution\n",
      "Trained model for China in 2022 using Pareto distribution\n",
      "Trained model for China in 2022 using Weibull distribution\n",
      "Trained model for China in 2022 using GeneralisedPareto distribution\n",
      "Trained model for France in 2013 using Pareto distribution\n",
      "Trained model for France in 2013 using Weibull distribution\n",
      "Trained model for France in 2013 using GeneralisedPareto distribution\n",
      "Trained model for France in 2014 using Pareto distribution\n",
      "Trained model for France in 2014 using Weibull distribution\n",
      "Trained model for France in 2014 using GeneralisedPareto distribution\n",
      "Trained model for France in 2015 using Pareto distribution\n",
      "Trained model for France in 2015 using Weibull distribution\n",
      "Trained model for France in 2015 using GeneralisedPareto distribution\n",
      "Trained model for France in 2016 using Pareto distribution\n",
      "Trained model for France in 2016 using Weibull distribution\n",
      "Trained model for France in 2016 using GeneralisedPareto distribution\n",
      "Trained model for France in 2017 using Pareto distribution\n",
      "Trained model for France in 2017 using Weibull distribution\n",
      "Trained model for France in 2017 using GeneralisedPareto distribution\n",
      "Trained model for France in 2018 using Pareto distribution\n",
      "Trained model for France in 2018 using Weibull distribution\n",
      "Trained model for France in 2018 using GeneralisedPareto distribution\n",
      "Trained model for France in 2019 using Pareto distribution\n",
      "Trained model for France in 2019 using Weibull distribution\n",
      "Trained model for France in 2019 using GeneralisedPareto distribution\n",
      "Trained model for France in 2020 using Pareto distribution\n",
      "Trained model for France in 2020 using Weibull distribution\n",
      "Trained model for France in 2020 using GeneralisedPareto distribution\n",
      "Trained model for France in 2021 using Pareto distribution\n",
      "Trained model for France in 2021 using Weibull distribution\n",
      "Trained model for France in 2021 using GeneralisedPareto distribution\n",
      "Trained model for France in 2022 using Pareto distribution\n",
      "Trained model for France in 2022 using Weibull distribution\n",
      "Trained model for France in 2022 using GeneralisedPareto distribution\n",
      "Trained model for Germany in 2003 using Pareto distribution\n",
      "Trained model for Germany in 2003 using Weibull distribution\n",
      "Trained model for Germany in 2003 using GeneralisedPareto distribution\n",
      "Trained model for Germany in 2004 using Pareto distribution\n",
      "Trained model for Germany in 2004 using Weibull distribution\n",
      "Trained model for Germany in 2004 using GeneralisedPareto distribution\n",
      "Trained model for Germany in 2005 using Pareto distribution\n",
      "Trained model for Germany in 2005 using Weibull distribution\n",
      "Trained model for Germany in 2005 using GeneralisedPareto distribution\n",
      "Trained model for Germany in 2006 using Pareto distribution\n",
      "Trained model for Germany in 2006 using Weibull distribution\n",
      "Trained model for Germany in 2006 using GeneralisedPareto distribution\n",
      "Trained model for Germany in 2007 using Pareto distribution\n",
      "Trained model for Germany in 2007 using Weibull distribution\n",
      "Trained model for Germany in 2007 using GeneralisedPareto distribution\n",
      "Trained model for Germany in 2008 using Pareto distribution\n",
      "Trained model for Germany in 2008 using Weibull distribution\n",
      "Trained model for Germany in 2008 using GeneralisedPareto distribution\n",
      "Trained model for Germany in 2009 using Pareto distribution\n",
      "Trained model for Germany in 2009 using Weibull distribution\n",
      "Trained model for Germany in 2009 using GeneralisedPareto distribution\n",
      "Trained model for Germany in 2010 using Pareto distribution\n",
      "Trained model for Germany in 2010 using Weibull distribution\n",
      "Trained model for Germany in 2010 using GeneralisedPareto distribution\n",
      "Trained model for Germany in 2011 using Pareto distribution\n",
      "Trained model for Germany in 2011 using Weibull distribution\n",
      "Trained model for Germany in 2011 using GeneralisedPareto distribution\n",
      "Trained model for Germany in 2012 using Pareto distribution\n",
      "Trained model for Germany in 2012 using Weibull distribution\n",
      "Trained model for Germany in 2012 using GeneralisedPareto distribution\n",
      "Trained model for Germany in 2013 using Pareto distribution\n",
      "Trained model for Germany in 2013 using Weibull distribution\n",
      "Trained model for Germany in 2013 using GeneralisedPareto distribution\n",
      "Trained model for Germany in 2014 using Pareto distribution\n",
      "Trained model for Germany in 2014 using Weibull distribution\n",
      "Trained model for Germany in 2014 using GeneralisedPareto distribution\n",
      "Trained model for Germany in 2015 using Pareto distribution\n",
      "Trained model for Germany in 2015 using Weibull distribution\n",
      "Trained model for Germany in 2015 using GeneralisedPareto distribution\n",
      "Trained model for Germany in 2016 using Pareto distribution\n",
      "Trained model for Germany in 2016 using Weibull distribution\n",
      "Trained model for Germany in 2016 using GeneralisedPareto distribution\n",
      "Trained model for Germany in 2017 using Pareto distribution\n",
      "Trained model for Germany in 2017 using Weibull distribution\n",
      "Trained model for Germany in 2017 using GeneralisedPareto distribution\n",
      "Trained model for Germany in 2018 using Pareto distribution\n",
      "Trained model for Germany in 2018 using Weibull distribution\n",
      "Trained model for Germany in 2018 using GeneralisedPareto distribution\n",
      "Trained model for Germany in 2019 using Pareto distribution\n",
      "Trained model for Germany in 2019 using Weibull distribution\n",
      "Trained model for Germany in 2019 using GeneralisedPareto distribution\n",
      "Trained model for Germany in 2020 using Pareto distribution\n",
      "Trained model for Germany in 2020 using Weibull distribution\n",
      "Trained model for Germany in 2020 using GeneralisedPareto distribution\n",
      "Trained model for Germany in 2021 using Pareto distribution\n",
      "Trained model for Germany in 2021 using Weibull distribution\n",
      "Trained model for Germany in 2021 using GeneralisedPareto distribution\n",
      "Trained model for Germany in 2022 using Pareto distribution\n",
      "Trained model for Germany in 2022 using Weibull distribution\n",
      "Trained model for Germany in 2022 using GeneralisedPareto distribution\n",
      "Trained model for India in 2007 using Pareto distribution\n",
      "Trained model for India in 2007 using Weibull distribution\n",
      "Trained model for India in 2007 using GeneralisedPareto distribution\n",
      "Trained model for India in 2008 using Pareto distribution\n",
      "Trained model for India in 2008 using Weibull distribution\n",
      "Trained model for India in 2008 using GeneralisedPareto distribution\n",
      "Trained model for India in 2009 using Pareto distribution\n",
      "Trained model for India in 2009 using Weibull distribution\n",
      "Trained model for India in 2009 using GeneralisedPareto distribution\n",
      "Trained model for India in 2010 using Pareto distribution\n",
      "Trained model for India in 2010 using Weibull distribution\n",
      "Trained model for India in 2010 using GeneralisedPareto distribution\n",
      "Trained model for India in 2011 using Pareto distribution\n",
      "Trained model for India in 2011 using Weibull distribution\n",
      "Trained model for India in 2011 using GeneralisedPareto distribution\n",
      "Trained model for India in 2012 using Pareto distribution\n",
      "Trained model for India in 2012 using Weibull distribution\n",
      "Trained model for India in 2012 using GeneralisedPareto distribution\n",
      "Trained model for India in 2013 using Pareto distribution\n",
      "Trained model for India in 2013 using Weibull distribution\n",
      "Trained model for India in 2013 using GeneralisedPareto distribution\n",
      "Trained model for India in 2014 using Pareto distribution\n",
      "Trained model for India in 2014 using Weibull distribution\n",
      "Trained model for India in 2014 using GeneralisedPareto distribution\n",
      "Trained model for India in 2015 using Pareto distribution\n",
      "Trained model for India in 2015 using Weibull distribution\n",
      "Trained model for India in 2015 using GeneralisedPareto distribution\n",
      "Trained model for India in 2016 using Pareto distribution\n",
      "Trained model for India in 2016 using Weibull distribution\n",
      "Trained model for India in 2016 using GeneralisedPareto distribution\n",
      "Trained model for India in 2017 using Pareto distribution\n",
      "Trained model for India in 2017 using Weibull distribution\n",
      "Trained model for India in 2017 using GeneralisedPareto distribution\n",
      "Trained model for India in 2018 using Pareto distribution\n",
      "Trained model for India in 2018 using Weibull distribution\n",
      "Trained model for India in 2018 using GeneralisedPareto distribution\n",
      "Trained model for India in 2019 using Pareto distribution\n",
      "Trained model for India in 2019 using Weibull distribution\n",
      "Trained model for India in 2019 using GeneralisedPareto distribution\n",
      "Trained model for India in 2020 using Pareto distribution\n",
      "Trained model for India in 2020 using Weibull distribution\n",
      "Trained model for India in 2020 using GeneralisedPareto distribution\n",
      "Trained model for India in 2021 using Pareto distribution\n",
      "Trained model for India in 2021 using Weibull distribution\n",
      "Trained model for India in 2021 using GeneralisedPareto distribution\n",
      "Trained model for India in 2022 using Pareto distribution\n",
      "Trained model for India in 2022 using Weibull distribution\n",
      "Trained model for India in 2022 using GeneralisedPareto distribution\n",
      "Trained model for Israel + Turkey in 2006 using Pareto distribution\n",
      "Trained model for Israel + Turkey in 2006 using Weibull distribution\n",
      "Trained model for Israel + Turkey in 2006 using GeneralisedPareto distribution\n",
      "Trained model for Israel + Turkey in 2007 using Pareto distribution\n",
      "Trained model for Israel + Turkey in 2007 using Weibull distribution\n",
      "Trained model for Israel + Turkey in 2007 using GeneralisedPareto distribution\n",
      "Trained model for Israel + Turkey in 2008 using Pareto distribution\n",
      "Trained model for Israel + Turkey in 2008 using Weibull distribution\n",
      "Trained model for Israel + Turkey in 2008 using GeneralisedPareto distribution\n",
      "Trained model for Israel + Turkey in 2009 using Pareto distribution\n",
      "Trained model for Israel + Turkey in 2009 using Weibull distribution\n",
      "Trained model for Israel + Turkey in 2009 using GeneralisedPareto distribution\n",
      "Trained model for Israel + Turkey in 2010 using Pareto distribution\n",
      "Trained model for Israel + Turkey in 2010 using Weibull distribution\n",
      "Trained model for Israel + Turkey in 2010 using GeneralisedPareto distribution\n",
      "Trained model for Israel + Turkey in 2011 using Pareto distribution\n",
      "Trained model for Israel + Turkey in 2011 using Weibull distribution\n",
      "Trained model for Israel + Turkey in 2011 using GeneralisedPareto distribution\n",
      "Trained model for Israel + Turkey in 2012 using Pareto distribution\n",
      "Trained model for Israel + Turkey in 2012 using Weibull distribution\n",
      "Trained model for Israel + Turkey in 2012 using GeneralisedPareto distribution\n",
      "Trained model for Israel + Turkey in 2013 using Pareto distribution\n",
      "Trained model for Israel + Turkey in 2013 using Weibull distribution\n",
      "Trained model for Israel + Turkey in 2013 using GeneralisedPareto distribution\n",
      "Trained model for Israel + Turkey in 2014 using Pareto distribution\n",
      "Trained model for Israel + Turkey in 2014 using Weibull distribution\n",
      "Trained model for Israel + Turkey in 2014 using GeneralisedPareto distribution\n",
      "Trained model for Israel + Turkey in 2015 using Pareto distribution\n",
      "Trained model for Israel + Turkey in 2015 using Weibull distribution\n",
      "Trained model for Israel + Turkey in 2015 using GeneralisedPareto distribution\n",
      "Trained model for Israel + Turkey in 2016 using Pareto distribution\n",
      "Trained model for Israel + Turkey in 2016 using Weibull distribution\n",
      "Trained model for Israel + Turkey in 2016 using GeneralisedPareto distribution\n",
      "Trained model for Israel + Turkey in 2017 using Pareto distribution\n",
      "Trained model for Israel + Turkey in 2017 using Weibull distribution\n",
      "Trained model for Israel + Turkey in 2017 using GeneralisedPareto distribution\n",
      "Trained model for Israel + Turkey in 2018 using Pareto distribution\n",
      "Trained model for Israel + Turkey in 2018 using Weibull distribution\n",
      "Trained model for Israel + Turkey in 2018 using GeneralisedPareto distribution\n",
      "Trained model for Israel + Turkey in 2019 using Pareto distribution\n",
      "Trained model for Israel + Turkey in 2019 using Weibull distribution\n",
      "Trained model for Israel + Turkey in 2019 using GeneralisedPareto distribution\n",
      "Trained model for Israel + Turkey in 2020 using Pareto distribution\n",
      "Trained model for Israel + Turkey in 2020 using Weibull distribution\n",
      "Trained model for Israel + Turkey in 2020 using GeneralisedPareto distribution\n",
      "Trained model for Israel + Turkey in 2021 using Pareto distribution\n",
      "Trained model for Israel + Turkey in 2021 using Weibull distribution\n",
      "Trained model for Israel + Turkey in 2021 using GeneralisedPareto distribution\n",
      "Trained model for Israel + Turkey in 2022 using Pareto distribution\n",
      "Trained model for Israel + Turkey in 2022 using Weibull distribution\n",
      "Trained model for Israel + Turkey in 2022 using GeneralisedPareto distribution\n",
      "Trained model for Italy in 2013 using Pareto distribution\n",
      "Trained model for Italy in 2013 using Weibull distribution\n",
      "Trained model for Italy in 2013 using GeneralisedPareto distribution\n",
      "Trained model for Italy in 2014 using Pareto distribution\n",
      "Trained model for Italy in 2014 using Weibull distribution\n",
      "Trained model for Italy in 2014 using GeneralisedPareto distribution\n",
      "Trained model for Italy in 2015 using Pareto distribution\n",
      "Trained model for Italy in 2015 using Weibull distribution\n",
      "Trained model for Italy in 2015 using GeneralisedPareto distribution\n",
      "Trained model for Italy in 2016 using Pareto distribution\n",
      "Trained model for Italy in 2016 using Weibull distribution\n",
      "Trained model for Italy in 2016 using GeneralisedPareto distribution\n",
      "Trained model for Italy in 2017 using Pareto distribution\n",
      "Trained model for Italy in 2017 using Weibull distribution\n",
      "Trained model for Italy in 2017 using GeneralisedPareto distribution\n",
      "Trained model for Italy in 2018 using Pareto distribution\n",
      "Trained model for Italy in 2018 using Weibull distribution\n",
      "Trained model for Italy in 2018 using GeneralisedPareto distribution\n",
      "Trained model for Italy in 2019 using Pareto distribution\n",
      "Trained model for Italy in 2019 using Weibull distribution\n",
      "Trained model for Italy in 2019 using GeneralisedPareto distribution\n",
      "Trained model for Italy in 2020 using Pareto distribution\n",
      "Trained model for Italy in 2020 using Weibull distribution\n",
      "Trained model for Italy in 2020 using GeneralisedPareto distribution\n",
      "Trained model for Italy in 2021 using Pareto distribution\n",
      "Trained model for Italy in 2021 using Weibull distribution\n",
      "Trained model for Italy in 2021 using GeneralisedPareto distribution\n",
      "Trained model for Italy in 2022 using Pareto distribution\n",
      "Trained model for Italy in 2022 using Weibull distribution\n",
      "Trained model for Italy in 2022 using GeneralisedPareto distribution\n",
      "Trained model for Japan in 2010 using Pareto distribution\n",
      "Trained model for Japan in 2010 using Weibull distribution\n",
      "Trained model for Japan in 2010 using GeneralisedPareto distribution\n",
      "Trained model for Japan in 2011 using Pareto distribution\n",
      "Trained model for Japan in 2011 using Weibull distribution\n",
      "Trained model for Japan in 2011 using GeneralisedPareto distribution\n",
      "Trained model for Japan in 2012 using Pareto distribution\n",
      "Trained model for Japan in 2012 using Weibull distribution\n",
      "Trained model for Japan in 2012 using GeneralisedPareto distribution\n",
      "Trained model for Japan in 2013 using Pareto distribution\n",
      "Trained model for Japan in 2013 using Weibull distribution\n",
      "Trained model for Japan in 2013 using GeneralisedPareto distribution\n",
      "Trained model for Japan in 2014 using Pareto distribution\n",
      "Trained model for Japan in 2014 using Weibull distribution\n",
      "Trained model for Japan in 2014 using GeneralisedPareto distribution\n",
      "Trained model for Japan in 2015 using Pareto distribution\n",
      "Trained model for Japan in 2015 using Weibull distribution\n",
      "Trained model for Japan in 2015 using GeneralisedPareto distribution\n",
      "Trained model for Japan in 2016 using Pareto distribution\n",
      "Trained model for Japan in 2016 using Weibull distribution\n",
      "Trained model for Japan in 2016 using GeneralisedPareto distribution\n",
      "Trained model for Japan in 2017 using Pareto distribution\n",
      "Trained model for Japan in 2017 using Weibull distribution\n",
      "Trained model for Japan in 2017 using GeneralisedPareto distribution\n",
      "Trained model for Japan in 2018 using Pareto distribution\n",
      "Trained model for Japan in 2018 using Weibull distribution\n",
      "Trained model for Japan in 2018 using GeneralisedPareto distribution\n",
      "Trained model for Japan in 2019 using Pareto distribution\n",
      "Trained model for Japan in 2019 using Weibull distribution\n",
      "Trained model for Japan in 2019 using GeneralisedPareto distribution\n",
      "Trained model for Japan in 2020 using Pareto distribution\n",
      "Trained model for Japan in 2020 using Weibull distribution\n",
      "Trained model for Japan in 2020 using GeneralisedPareto distribution\n",
      "Trained model for Japan in 2021 using Pareto distribution\n",
      "Trained model for Japan in 2021 using Weibull distribution\n",
      "Trained model for Japan in 2021 using GeneralisedPareto distribution\n",
      "Trained model for Japan in 2022 using Pareto distribution\n",
      "Trained model for Japan in 2022 using Weibull distribution\n",
      "Trained model for Japan in 2022 using GeneralisedPareto distribution\n",
      "Trained model for Russia in 2005 using Pareto distribution\n",
      "Trained model for Russia in 2005 using Weibull distribution\n",
      "Trained model for Russia in 2005 using GeneralisedPareto distribution\n",
      "Trained model for Russia in 2006 using Pareto distribution\n",
      "Trained model for Russia in 2006 using Weibull distribution\n",
      "Trained model for Russia in 2006 using GeneralisedPareto distribution\n",
      "Trained model for Russia in 2007 using Pareto distribution\n",
      "Trained model for Russia in 2007 using Weibull distribution\n",
      "Trained model for Russia in 2007 using GeneralisedPareto distribution\n",
      "Trained model for Russia in 2008 using Pareto distribution\n",
      "Trained model for Russia in 2008 using Weibull distribution\n",
      "Trained model for Russia in 2008 using GeneralisedPareto distribution\n",
      "Trained model for Russia in 2009 using Pareto distribution\n",
      "Trained model for Russia in 2009 using Weibull distribution\n",
      "Trained model for Russia in 2009 using GeneralisedPareto distribution\n",
      "Trained model for Russia in 2010 using Pareto distribution\n",
      "Trained model for Russia in 2010 using Weibull distribution\n",
      "Trained model for Russia in 2010 using GeneralisedPareto distribution\n",
      "Trained model for Russia in 2011 using Pareto distribution\n",
      "Trained model for Russia in 2011 using Weibull distribution\n",
      "Trained model for Russia in 2011 using GeneralisedPareto distribution\n",
      "Trained model for Russia in 2012 using Pareto distribution\n",
      "Trained model for Russia in 2012 using Weibull distribution\n",
      "Trained model for Russia in 2012 using GeneralisedPareto distribution\n",
      "Trained model for Russia in 2013 using Pareto distribution\n",
      "Trained model for Russia in 2013 using Weibull distribution\n",
      "Trained model for Russia in 2013 using GeneralisedPareto distribution\n",
      "Trained model for Russia in 2014 using Pareto distribution\n",
      "Trained model for Russia in 2014 using Weibull distribution\n",
      "Trained model for Russia in 2014 using GeneralisedPareto distribution\n",
      "Trained model for Russia in 2015 using Pareto distribution\n",
      "Trained model for Russia in 2015 using Weibull distribution\n",
      "Trained model for Russia in 2015 using GeneralisedPareto distribution\n",
      "Trained model for Russia in 2016 using Pareto distribution\n",
      "Trained model for Russia in 2016 using Weibull distribution\n",
      "Trained model for Russia in 2016 using GeneralisedPareto distribution\n",
      "Trained model for Russia in 2017 using Pareto distribution\n",
      "Trained model for Russia in 2017 using Weibull distribution\n",
      "Trained model for Russia in 2017 using GeneralisedPareto distribution\n",
      "Trained model for Russia in 2018 using Pareto distribution\n",
      "Trained model for Russia in 2018 using Weibull distribution\n",
      "Trained model for Russia in 2018 using GeneralisedPareto distribution\n",
      "Trained model for Russia in 2019 using Pareto distribution\n",
      "Trained model for Russia in 2019 using Weibull distribution\n",
      "Trained model for Russia in 2019 using GeneralisedPareto distribution\n",
      "Trained model for Russia in 2020 using Pareto distribution\n",
      "Trained model for Russia in 2020 using Weibull distribution\n",
      "Trained model for Russia in 2020 using GeneralisedPareto distribution\n",
      "Trained model for Russia in 2021 using Pareto distribution\n",
      "Trained model for Russia in 2021 using Weibull distribution\n",
      "Trained model for Russia in 2021 using GeneralisedPareto distribution\n",
      "Trained model for Russia in 2022 using Pareto distribution\n",
      "Trained model for Russia in 2022 using Weibull distribution\n",
      "Trained model for Russia in 2022 using GeneralisedPareto distribution\n",
      "Trained model for Scandinavia in 2012 using Pareto distribution\n",
      "Trained model for Scandinavia in 2012 using Weibull distribution\n",
      "Trained model for Scandinavia in 2012 using GeneralisedPareto distribution\n",
      "Trained model for Scandinavia in 2013 using Pareto distribution\n",
      "Trained model for Scandinavia in 2013 using Weibull distribution\n",
      "Trained model for Scandinavia in 2013 using GeneralisedPareto distribution\n",
      "Trained model for Scandinavia in 2014 using Pareto distribution\n",
      "Trained model for Scandinavia in 2014 using Weibull distribution\n",
      "Trained model for Scandinavia in 2014 using GeneralisedPareto distribution\n",
      "Trained model for Scandinavia in 2015 using Pareto distribution\n",
      "Trained model for Scandinavia in 2015 using Weibull distribution\n",
      "Trained model for Scandinavia in 2015 using GeneralisedPareto distribution\n",
      "Trained model for Scandinavia in 2016 using Pareto distribution\n",
      "Trained model for Scandinavia in 2016 using Weibull distribution\n",
      "Trained model for Scandinavia in 2016 using GeneralisedPareto distribution\n",
      "Trained model for Scandinavia in 2017 using Pareto distribution\n",
      "Trained model for Scandinavia in 2017 using Weibull distribution\n",
      "Trained model for Scandinavia in 2017 using GeneralisedPareto distribution\n",
      "Trained model for Scandinavia in 2018 using Pareto distribution\n",
      "Trained model for Scandinavia in 2018 using Weibull distribution\n",
      "Trained model for Scandinavia in 2018 using GeneralisedPareto distribution\n",
      "Trained model for Scandinavia in 2019 using Pareto distribution\n",
      "Trained model for Scandinavia in 2019 using Weibull distribution\n",
      "Trained model for Scandinavia in 2019 using GeneralisedPareto distribution\n",
      "Trained model for Scandinavia in 2020 using Pareto distribution\n",
      "Trained model for Scandinavia in 2020 using Weibull distribution\n",
      "Trained model for Scandinavia in 2020 using GeneralisedPareto distribution\n",
      "Trained model for Scandinavia in 2021 using Pareto distribution\n",
      "Trained model for Scandinavia in 2021 using Weibull distribution\n",
      "Trained model for Scandinavia in 2021 using GeneralisedPareto distribution\n",
      "Trained model for Scandinavia in 2022 using Pareto distribution\n",
      "Trained model for Scandinavia in 2022 using Weibull distribution\n",
      "Trained model for Scandinavia in 2022 using GeneralisedPareto distribution\n",
      "Trained model for South Korea in 2012 using Pareto distribution\n",
      "Trained model for South Korea in 2012 using Weibull distribution\n",
      "Trained model for South Korea in 2012 using GeneralisedPareto distribution\n",
      "Trained model for South Korea in 2013 using Pareto distribution\n",
      "Trained model for South Korea in 2013 using Weibull distribution\n",
      "Trained model for South Korea in 2013 using GeneralisedPareto distribution\n",
      "Trained model for South Korea in 2014 using Pareto distribution\n",
      "Trained model for South Korea in 2014 using Weibull distribution\n",
      "Trained model for South Korea in 2014 using GeneralisedPareto distribution\n",
      "Trained model for South Korea in 2015 using Pareto distribution\n",
      "Trained model for South Korea in 2015 using Weibull distribution\n",
      "Trained model for South Korea in 2015 using GeneralisedPareto distribution\n",
      "Trained model for South Korea in 2016 using Pareto distribution\n",
      "Trained model for South Korea in 2016 using Weibull distribution\n",
      "Trained model for South Korea in 2016 using GeneralisedPareto distribution\n",
      "Trained model for South Korea in 2017 using Pareto distribution\n",
      "Trained model for South Korea in 2017 using Weibull distribution\n",
      "Trained model for South Korea in 2017 using GeneralisedPareto distribution\n",
      "Trained model for South Korea in 2018 using Pareto distribution\n",
      "Trained model for South Korea in 2018 using Weibull distribution\n",
      "Trained model for South Korea in 2018 using GeneralisedPareto distribution\n",
      "Trained model for South Korea in 2019 using Pareto distribution\n",
      "Trained model for South Korea in 2019 using Weibull distribution\n",
      "Trained model for South Korea in 2019 using GeneralisedPareto distribution\n",
      "Trained model for South Korea in 2020 using Pareto distribution\n",
      "Trained model for South Korea in 2020 using Weibull distribution\n",
      "Trained model for South Korea in 2020 using GeneralisedPareto distribution\n",
      "Trained model for South Korea in 2021 using Pareto distribution\n",
      "Trained model for South Korea in 2021 using Weibull distribution\n",
      "Trained model for South Korea in 2021 using GeneralisedPareto distribution\n",
      "Trained model for South Korea in 2022 using Pareto distribution\n",
      "Trained model for South Korea in 2022 using Weibull distribution\n",
      "Trained model for South Korea in 2022 using GeneralisedPareto distribution\n",
      "Trained model for Southeast Asia in 2013 using Pareto distribution\n",
      "Trained model for Southeast Asia in 2013 using Weibull distribution\n",
      "Trained model for Southeast Asia in 2013 using GeneralisedPareto distribution\n",
      "Trained model for Southeast Asia in 2014 using Pareto distribution\n",
      "Trained model for Southeast Asia in 2014 using Weibull distribution\n",
      "Trained model for Southeast Asia in 2014 using GeneralisedPareto distribution\n",
      "Trained model for Southeast Asia in 2015 using Pareto distribution\n",
      "Trained model for Southeast Asia in 2015 using Weibull distribution\n",
      "Trained model for Southeast Asia in 2015 using GeneralisedPareto distribution\n",
      "Trained model for Southeast Asia in 2016 using Pareto distribution\n",
      "Trained model for Southeast Asia in 2016 using Weibull distribution\n",
      "Trained model for Southeast Asia in 2016 using GeneralisedPareto distribution\n",
      "Trained model for Southeast Asia in 2017 using Pareto distribution\n",
      "Trained model for Southeast Asia in 2017 using Weibull distribution\n",
      "Trained model for Southeast Asia in 2017 using GeneralisedPareto distribution\n",
      "Trained model for Southeast Asia in 2018 using Pareto distribution\n",
      "Trained model for Southeast Asia in 2018 using Weibull distribution\n",
      "Trained model for Southeast Asia in 2018 using GeneralisedPareto distribution\n",
      "Trained model for Southeast Asia in 2019 using Pareto distribution\n",
      "Trained model for Southeast Asia in 2019 using Weibull distribution\n",
      "Trained model for Southeast Asia in 2019 using GeneralisedPareto distribution\n",
      "Trained model for Southeast Asia in 2020 using Pareto distribution\n",
      "Trained model for Southeast Asia in 2020 using Weibull distribution\n",
      "Trained model for Southeast Asia in 2020 using GeneralisedPareto distribution\n",
      "Trained model for Southeast Asia in 2021 using Pareto distribution\n",
      "Trained model for Southeast Asia in 2021 using Weibull distribution\n",
      "Trained model for Southeast Asia in 2021 using GeneralisedPareto distribution\n",
      "Trained model for Southeast Asia in 2022 using Pareto distribution\n",
      "Trained model for Southeast Asia in 2022 using Weibull distribution\n",
      "Trained model for Southeast Asia in 2022 using GeneralisedPareto distribution\n",
      "Trained model for U.S. in 2001 using Pareto distribution\n",
      "Trained model for U.S. in 2001 using Weibull distribution\n",
      "Trained model for U.S. in 2001 using GeneralisedPareto distribution\n",
      "Trained model for U.S. in 2002 using Pareto distribution\n",
      "Trained model for U.S. in 2002 using Weibull distribution\n",
      "Trained model for U.S. in 2002 using GeneralisedPareto distribution\n",
      "Trained model for U.S. in 2003 using Pareto distribution\n",
      "Trained model for U.S. in 2003 using Weibull distribution\n",
      "Trained model for U.S. in 2003 using GeneralisedPareto distribution\n",
      "Trained model for U.S. in 2004 using Pareto distribution\n",
      "Trained model for U.S. in 2004 using Weibull distribution\n",
      "Trained model for U.S. in 2004 using GeneralisedPareto distribution\n",
      "Trained model for U.S. in 2005 using Pareto distribution\n",
      "Trained model for U.S. in 2005 using Weibull distribution\n",
      "Trained model for U.S. in 2005 using GeneralisedPareto distribution\n",
      "Trained model for U.S. in 2006 using Pareto distribution\n",
      "Trained model for U.S. in 2006 using Weibull distribution\n",
      "Trained model for U.S. in 2006 using GeneralisedPareto distribution\n",
      "Trained model for U.S. in 2007 using Pareto distribution\n",
      "Trained model for U.S. in 2007 using Weibull distribution\n",
      "Trained model for U.S. in 2007 using GeneralisedPareto distribution\n",
      "Trained model for U.S. in 2008 using Pareto distribution\n",
      "Trained model for U.S. in 2008 using Weibull distribution\n",
      "Trained model for U.S. in 2008 using GeneralisedPareto distribution\n",
      "Trained model for U.S. in 2009 using Pareto distribution\n",
      "Trained model for U.S. in 2009 using Weibull distribution\n",
      "Trained model for U.S. in 2009 using GeneralisedPareto distribution\n",
      "Trained model for U.S. in 2010 using Pareto distribution\n",
      "Trained model for U.S. in 2010 using Weibull distribution\n",
      "Trained model for U.S. in 2010 using GeneralisedPareto distribution\n",
      "Trained model for U.S. in 2011 using Pareto distribution\n",
      "Trained model for U.S. in 2011 using Weibull distribution\n",
      "Trained model for U.S. in 2011 using GeneralisedPareto distribution\n",
      "Trained model for U.S. in 2012 using Pareto distribution\n",
      "Trained model for U.S. in 2012 using Weibull distribution\n",
      "Trained model for U.S. in 2012 using GeneralisedPareto distribution\n",
      "Trained model for U.S. in 2013 using Pareto distribution\n",
      "Trained model for U.S. in 2013 using Weibull distribution\n",
      "Trained model for U.S. in 2013 using GeneralisedPareto distribution\n",
      "Trained model for U.S. in 2014 using Pareto distribution\n",
      "Trained model for U.S. in 2014 using Weibull distribution\n",
      "Trained model for U.S. in 2014 using GeneralisedPareto distribution\n",
      "Trained model for U.S. in 2015 using Pareto distribution\n",
      "Trained model for U.S. in 2015 using Weibull distribution\n",
      "Trained model for U.S. in 2015 using GeneralisedPareto distribution\n",
      "Trained model for U.S. in 2016 using Pareto distribution\n",
      "Trained model for U.S. in 2016 using Weibull distribution\n",
      "Trained model for U.S. in 2016 using GeneralisedPareto distribution\n",
      "Trained model for U.S. in 2017 using Pareto distribution\n",
      "Trained model for U.S. in 2017 using Weibull distribution\n",
      "Trained model for U.S. in 2017 using GeneralisedPareto distribution\n",
      "Trained model for U.S. in 2018 using Pareto distribution\n",
      "Trained model for U.S. in 2018 using Weibull distribution\n",
      "Trained model for U.S. in 2018 using GeneralisedPareto distribution\n",
      "Trained model for U.S. in 2019 using Pareto distribution\n",
      "Trained model for U.S. in 2019 using Weibull distribution\n",
      "Trained model for U.S. in 2019 using GeneralisedPareto distribution\n",
      "Trained model for U.S. in 2020 using Pareto distribution\n",
      "Trained model for U.S. in 2020 using Weibull distribution\n",
      "Trained model for U.S. in 2020 using GeneralisedPareto distribution\n",
      "Trained model for U.S. in 2021 using Pareto distribution\n",
      "Trained model for U.S. in 2021 using Weibull distribution\n",
      "Trained model for U.S. in 2021 using GeneralisedPareto distribution\n",
      "Trained model for U.S. in 2022 using Pareto distribution\n",
      "Trained model for U.S. in 2022 using Weibull distribution\n",
      "Trained model for U.S. in 2022 using GeneralisedPareto distribution\n"
     ]
    }
   ],
   "source": [
    "# find all combinations of group and year\n",
    "groups = df['group'].unique()\n",
    "for group in groups:\n",
    "    years = df[df['group'] == group]['year'].unique()\n",
    "    for year in years:\n",
    "        for model_type in ['Pareto', 'Weibull', 'GeneralisedPareto']:\n",
    "            train_or_retrieve_model(df, group, year, model_type, retrain_if_saved=False)\n",
    "            print(f\"Trained model for {group} in {year} using {model_type} distribution\")"
   ]
  },
  {
   "cell_type": "markdown",
   "metadata": {},
   "source": [
    "### Evaluation"
   ]
  },
  {
   "cell_type": "markdown",
   "metadata": {},
   "source": [
    "#### Mean wealth prediction"
   ]
  },
  {
   "cell_type": "code",
   "execution_count": 6,
   "metadata": {},
   "outputs": [
    {
     "name": "stderr",
     "output_type": "stream",
     "text": [
      "Sampling: [y]\n"
     ]
    },
    {
     "name": "stdout",
     "output_type": "stream",
     "text": [
      "Calculating mean wealth for Alps in 2018\n"
     ]
    },
    {
     "data": {
      "text/html": [
       "<pre style=\"white-space:pre;overflow-x:auto;line-height:normal;font-family:Menlo,'DejaVu Sans Mono',consolas,'Courier New',monospace\">\n",
       "</pre>\n"
      ],
      "text/plain": [
       "\n"
      ]
     },
     "metadata": {},
     "output_type": "display_data"
    },
    {
     "name": "stderr",
     "output_type": "stream",
     "text": [
      "Sampling: [y]\n"
     ]
    },
    {
     "data": {
      "text/html": [
       "<pre style=\"white-space:pre;overflow-x:auto;line-height:normal;font-family:Menlo,'DejaVu Sans Mono',consolas,'Courier New',monospace\">\n",
       "</pre>\n"
      ],
      "text/plain": [
       "\n"
      ]
     },
     "metadata": {},
     "output_type": "display_data"
    },
    {
     "name": "stderr",
     "output_type": "stream",
     "text": [
      "Sampling: [y]\n"
     ]
    },
    {
     "data": {
      "text/html": [
       "<pre style=\"white-space:pre;overflow-x:auto;line-height:normal;font-family:Menlo,'DejaVu Sans Mono',consolas,'Courier New',monospace\">\n",
       "</pre>\n"
      ],
      "text/plain": [
       "\n"
      ]
     },
     "metadata": {},
     "output_type": "display_data"
    },
    {
     "name": "stderr",
     "output_type": "stream",
     "text": [
      "Sampling: [y]\n"
     ]
    },
    {
     "name": "stdout",
     "output_type": "stream",
     "text": [
      "Calculating mean wealth for Asian Islands in 2018\n"
     ]
    },
    {
     "data": {
      "text/html": [
       "<pre style=\"white-space:pre;overflow-x:auto;line-height:normal;font-family:Menlo,'DejaVu Sans Mono',consolas,'Courier New',monospace\">\n",
       "</pre>\n"
      ],
      "text/plain": [
       "\n"
      ]
     },
     "metadata": {},
     "output_type": "display_data"
    },
    {
     "name": "stderr",
     "output_type": "stream",
     "text": [
      "Sampling: [y]\n"
     ]
    },
    {
     "data": {
      "text/html": [
       "<pre style=\"white-space:pre;overflow-x:auto;line-height:normal;font-family:Menlo,'DejaVu Sans Mono',consolas,'Courier New',monospace\">\n",
       "</pre>\n"
      ],
      "text/plain": [
       "\n"
      ]
     },
     "metadata": {},
     "output_type": "display_data"
    },
    {
     "name": "stderr",
     "output_type": "stream",
     "text": [
      "Sampling: [y]\n"
     ]
    },
    {
     "data": {
      "text/html": [
       "<pre style=\"white-space:pre;overflow-x:auto;line-height:normal;font-family:Menlo,'DejaVu Sans Mono',consolas,'Courier New',monospace\">\n",
       "</pre>\n"
      ],
      "text/plain": [
       "\n"
      ]
     },
     "metadata": {},
     "output_type": "display_data"
    },
    {
     "name": "stderr",
     "output_type": "stream",
     "text": [
      "Sampling: [y]\n"
     ]
    },
    {
     "name": "stdout",
     "output_type": "stream",
     "text": [
      "Calculating mean wealth for Australia in 2018\n"
     ]
    },
    {
     "data": {
      "text/html": [
       "<pre style=\"white-space:pre;overflow-x:auto;line-height:normal;font-family:Menlo,'DejaVu Sans Mono',consolas,'Courier New',monospace\">\n",
       "</pre>\n"
      ],
      "text/plain": [
       "\n"
      ]
     },
     "metadata": {},
     "output_type": "display_data"
    },
    {
     "name": "stderr",
     "output_type": "stream",
     "text": [
      "Sampling: [y]\n"
     ]
    },
    {
     "data": {
      "text/html": [
       "<pre style=\"white-space:pre;overflow-x:auto;line-height:normal;font-family:Menlo,'DejaVu Sans Mono',consolas,'Courier New',monospace\">\n",
       "</pre>\n"
      ],
      "text/plain": [
       "\n"
      ]
     },
     "metadata": {},
     "output_type": "display_data"
    },
    {
     "name": "stderr",
     "output_type": "stream",
     "text": [
      "Sampling: [y]\n"
     ]
    },
    {
     "data": {
      "text/html": [
       "<pre style=\"white-space:pre;overflow-x:auto;line-height:normal;font-family:Menlo,'DejaVu Sans Mono',consolas,'Courier New',monospace\">\n",
       "</pre>\n"
      ],
      "text/plain": [
       "\n"
      ]
     },
     "metadata": {},
     "output_type": "display_data"
    },
    {
     "name": "stderr",
     "output_type": "stream",
     "text": [
      "Sampling: [y]\n"
     ]
    },
    {
     "name": "stdout",
     "output_type": "stream",
     "text": [
      "Calculating mean wealth for Brazil in 2018\n"
     ]
    },
    {
     "data": {
      "text/html": [
       "<pre style=\"white-space:pre;overflow-x:auto;line-height:normal;font-family:Menlo,'DejaVu Sans Mono',consolas,'Courier New',monospace\">\n",
       "</pre>\n"
      ],
      "text/plain": [
       "\n"
      ]
     },
     "metadata": {},
     "output_type": "display_data"
    },
    {
     "name": "stderr",
     "output_type": "stream",
     "text": [
      "Sampling: [y]\n"
     ]
    },
    {
     "data": {
      "text/html": [
       "<pre style=\"white-space:pre;overflow-x:auto;line-height:normal;font-family:Menlo,'DejaVu Sans Mono',consolas,'Courier New',monospace\">\n",
       "</pre>\n"
      ],
      "text/plain": [
       "\n"
      ]
     },
     "metadata": {},
     "output_type": "display_data"
    },
    {
     "name": "stderr",
     "output_type": "stream",
     "text": [
      "Sampling: [y]\n"
     ]
    },
    {
     "data": {
      "text/html": [
       "<pre style=\"white-space:pre;overflow-x:auto;line-height:normal;font-family:Menlo,'DejaVu Sans Mono',consolas,'Courier New',monospace\">\n",
       "</pre>\n"
      ],
      "text/plain": [
       "\n"
      ]
     },
     "metadata": {},
     "output_type": "display_data"
    },
    {
     "name": "stderr",
     "output_type": "stream",
     "text": [
      "Sampling: [y]\n"
     ]
    },
    {
     "name": "stdout",
     "output_type": "stream",
     "text": [
      "Calculating mean wealth for British Islands in 2018\n"
     ]
    },
    {
     "data": {
      "text/html": [
       "<pre style=\"white-space:pre;overflow-x:auto;line-height:normal;font-family:Menlo,'DejaVu Sans Mono',consolas,'Courier New',monospace\">\n",
       "</pre>\n"
      ],
      "text/plain": [
       "\n"
      ]
     },
     "metadata": {},
     "output_type": "display_data"
    },
    {
     "name": "stderr",
     "output_type": "stream",
     "text": [
      "Sampling: [y]\n"
     ]
    },
    {
     "data": {
      "text/html": [
       "<pre style=\"white-space:pre;overflow-x:auto;line-height:normal;font-family:Menlo,'DejaVu Sans Mono',consolas,'Courier New',monospace\">\n",
       "</pre>\n"
      ],
      "text/plain": [
       "\n"
      ]
     },
     "metadata": {},
     "output_type": "display_data"
    },
    {
     "name": "stderr",
     "output_type": "stream",
     "text": [
      "Sampling: [y]\n"
     ]
    },
    {
     "data": {
      "text/html": [
       "<pre style=\"white-space:pre;overflow-x:auto;line-height:normal;font-family:Menlo,'DejaVu Sans Mono',consolas,'Courier New',monospace\">\n",
       "</pre>\n"
      ],
      "text/plain": [
       "\n"
      ]
     },
     "metadata": {},
     "output_type": "display_data"
    },
    {
     "name": "stderr",
     "output_type": "stream",
     "text": [
      "Sampling: [y]\n"
     ]
    },
    {
     "name": "stdout",
     "output_type": "stream",
     "text": [
      "Calculating mean wealth for Canada in 2018\n"
     ]
    },
    {
     "data": {
      "text/html": [
       "<pre style=\"white-space:pre;overflow-x:auto;line-height:normal;font-family:Menlo,'DejaVu Sans Mono',consolas,'Courier New',monospace\">\n",
       "</pre>\n"
      ],
      "text/plain": [
       "\n"
      ]
     },
     "metadata": {},
     "output_type": "display_data"
    },
    {
     "name": "stderr",
     "output_type": "stream",
     "text": [
      "Sampling: [y]\n"
     ]
    },
    {
     "data": {
      "text/html": [
       "<pre style=\"white-space:pre;overflow-x:auto;line-height:normal;font-family:Menlo,'DejaVu Sans Mono',consolas,'Courier New',monospace\">\n",
       "</pre>\n"
      ],
      "text/plain": [
       "\n"
      ]
     },
     "metadata": {},
     "output_type": "display_data"
    },
    {
     "name": "stderr",
     "output_type": "stream",
     "text": [
      "Sampling: [y]\n"
     ]
    },
    {
     "data": {
      "text/html": [
       "<pre style=\"white-space:pre;overflow-x:auto;line-height:normal;font-family:Menlo,'DejaVu Sans Mono',consolas,'Courier New',monospace\">\n",
       "</pre>\n"
      ],
      "text/plain": [
       "\n"
      ]
     },
     "metadata": {},
     "output_type": "display_data"
    },
    {
     "name": "stderr",
     "output_type": "stream",
     "text": [
      "Sampling: [y]\n"
     ]
    },
    {
     "name": "stdout",
     "output_type": "stream",
     "text": [
      "Calculating mean wealth for China in 2018\n"
     ]
    },
    {
     "data": {
      "text/html": [
       "<pre style=\"white-space:pre;overflow-x:auto;line-height:normal;font-family:Menlo,'DejaVu Sans Mono',consolas,'Courier New',monospace\">\n",
       "</pre>\n"
      ],
      "text/plain": [
       "\n"
      ]
     },
     "metadata": {},
     "output_type": "display_data"
    },
    {
     "name": "stderr",
     "output_type": "stream",
     "text": [
      "Sampling: [y]\n"
     ]
    },
    {
     "data": {
      "text/html": [
       "<pre style=\"white-space:pre;overflow-x:auto;line-height:normal;font-family:Menlo,'DejaVu Sans Mono',consolas,'Courier New',monospace\">\n",
       "</pre>\n"
      ],
      "text/plain": [
       "\n"
      ]
     },
     "metadata": {},
     "output_type": "display_data"
    },
    {
     "name": "stderr",
     "output_type": "stream",
     "text": [
      "Sampling: [y]\n"
     ]
    },
    {
     "data": {
      "text/html": [
       "<pre style=\"white-space:pre;overflow-x:auto;line-height:normal;font-family:Menlo,'DejaVu Sans Mono',consolas,'Courier New',monospace\">\n",
       "</pre>\n"
      ],
      "text/plain": [
       "\n"
      ]
     },
     "metadata": {},
     "output_type": "display_data"
    },
    {
     "name": "stderr",
     "output_type": "stream",
     "text": [
      "Sampling: [y]\n"
     ]
    },
    {
     "name": "stdout",
     "output_type": "stream",
     "text": [
      "Calculating mean wealth for France in 2018\n"
     ]
    },
    {
     "data": {
      "text/html": [
       "<pre style=\"white-space:pre;overflow-x:auto;line-height:normal;font-family:Menlo,'DejaVu Sans Mono',consolas,'Courier New',monospace\">\n",
       "</pre>\n"
      ],
      "text/plain": [
       "\n"
      ]
     },
     "metadata": {},
     "output_type": "display_data"
    },
    {
     "name": "stderr",
     "output_type": "stream",
     "text": [
      "Sampling: [y]\n"
     ]
    },
    {
     "data": {
      "text/html": [
       "<pre style=\"white-space:pre;overflow-x:auto;line-height:normal;font-family:Menlo,'DejaVu Sans Mono',consolas,'Courier New',monospace\">\n",
       "</pre>\n"
      ],
      "text/plain": [
       "\n"
      ]
     },
     "metadata": {},
     "output_type": "display_data"
    },
    {
     "name": "stderr",
     "output_type": "stream",
     "text": [
      "Sampling: [y]\n"
     ]
    },
    {
     "data": {
      "text/html": [
       "<pre style=\"white-space:pre;overflow-x:auto;line-height:normal;font-family:Menlo,'DejaVu Sans Mono',consolas,'Courier New',monospace\">\n",
       "</pre>\n"
      ],
      "text/plain": [
       "\n"
      ]
     },
     "metadata": {},
     "output_type": "display_data"
    },
    {
     "name": "stderr",
     "output_type": "stream",
     "text": [
      "Sampling: [y]\n"
     ]
    },
    {
     "name": "stdout",
     "output_type": "stream",
     "text": [
      "Calculating mean wealth for Germany in 2018\n"
     ]
    },
    {
     "data": {
      "text/html": [
       "<pre style=\"white-space:pre;overflow-x:auto;line-height:normal;font-family:Menlo,'DejaVu Sans Mono',consolas,'Courier New',monospace\">\n",
       "</pre>\n"
      ],
      "text/plain": [
       "\n"
      ]
     },
     "metadata": {},
     "output_type": "display_data"
    },
    {
     "name": "stderr",
     "output_type": "stream",
     "text": [
      "Sampling: [y]\n"
     ]
    },
    {
     "data": {
      "text/html": [
       "<pre style=\"white-space:pre;overflow-x:auto;line-height:normal;font-family:Menlo,'DejaVu Sans Mono',consolas,'Courier New',monospace\">\n",
       "</pre>\n"
      ],
      "text/plain": [
       "\n"
      ]
     },
     "metadata": {},
     "output_type": "display_data"
    },
    {
     "name": "stderr",
     "output_type": "stream",
     "text": [
      "Sampling: [y]\n"
     ]
    },
    {
     "data": {
      "text/html": [
       "<pre style=\"white-space:pre;overflow-x:auto;line-height:normal;font-family:Menlo,'DejaVu Sans Mono',consolas,'Courier New',monospace\">\n",
       "</pre>\n"
      ],
      "text/plain": [
       "\n"
      ]
     },
     "metadata": {},
     "output_type": "display_data"
    },
    {
     "name": "stderr",
     "output_type": "stream",
     "text": [
      "Sampling: [y]\n"
     ]
    },
    {
     "name": "stdout",
     "output_type": "stream",
     "text": [
      "Calculating mean wealth for India in 2018\n"
     ]
    },
    {
     "data": {
      "text/html": [
       "<pre style=\"white-space:pre;overflow-x:auto;line-height:normal;font-family:Menlo,'DejaVu Sans Mono',consolas,'Courier New',monospace\">\n",
       "</pre>\n"
      ],
      "text/plain": [
       "\n"
      ]
     },
     "metadata": {},
     "output_type": "display_data"
    },
    {
     "name": "stderr",
     "output_type": "stream",
     "text": [
      "Sampling: [y]\n"
     ]
    },
    {
     "data": {
      "text/html": [
       "<pre style=\"white-space:pre;overflow-x:auto;line-height:normal;font-family:Menlo,'DejaVu Sans Mono',consolas,'Courier New',monospace\">\n",
       "</pre>\n"
      ],
      "text/plain": [
       "\n"
      ]
     },
     "metadata": {},
     "output_type": "display_data"
    },
    {
     "name": "stderr",
     "output_type": "stream",
     "text": [
      "Sampling: [y]\n"
     ]
    },
    {
     "data": {
      "text/html": [
       "<pre style=\"white-space:pre;overflow-x:auto;line-height:normal;font-family:Menlo,'DejaVu Sans Mono',consolas,'Courier New',monospace\">\n",
       "</pre>\n"
      ],
      "text/plain": [
       "\n"
      ]
     },
     "metadata": {},
     "output_type": "display_data"
    },
    {
     "name": "stderr",
     "output_type": "stream",
     "text": [
      "Sampling: [y]\n"
     ]
    },
    {
     "name": "stdout",
     "output_type": "stream",
     "text": [
      "Calculating mean wealth for Israel + Turkey in 2018\n"
     ]
    },
    {
     "data": {
      "text/html": [
       "<pre style=\"white-space:pre;overflow-x:auto;line-height:normal;font-family:Menlo,'DejaVu Sans Mono',consolas,'Courier New',monospace\">\n",
       "</pre>\n"
      ],
      "text/plain": [
       "\n"
      ]
     },
     "metadata": {},
     "output_type": "display_data"
    },
    {
     "name": "stderr",
     "output_type": "stream",
     "text": [
      "Sampling: [y]\n"
     ]
    },
    {
     "data": {
      "text/html": [
       "<pre style=\"white-space:pre;overflow-x:auto;line-height:normal;font-family:Menlo,'DejaVu Sans Mono',consolas,'Courier New',monospace\">\n",
       "</pre>\n"
      ],
      "text/plain": [
       "\n"
      ]
     },
     "metadata": {},
     "output_type": "display_data"
    },
    {
     "name": "stderr",
     "output_type": "stream",
     "text": [
      "Sampling: [y]\n"
     ]
    },
    {
     "data": {
      "text/html": [
       "<pre style=\"white-space:pre;overflow-x:auto;line-height:normal;font-family:Menlo,'DejaVu Sans Mono',consolas,'Courier New',monospace\">\n",
       "</pre>\n"
      ],
      "text/plain": [
       "\n"
      ]
     },
     "metadata": {},
     "output_type": "display_data"
    },
    {
     "name": "stderr",
     "output_type": "stream",
     "text": [
      "Sampling: [y]\n"
     ]
    },
    {
     "name": "stdout",
     "output_type": "stream",
     "text": [
      "Calculating mean wealth for Italy in 2018\n"
     ]
    },
    {
     "data": {
      "text/html": [
       "<pre style=\"white-space:pre;overflow-x:auto;line-height:normal;font-family:Menlo,'DejaVu Sans Mono',consolas,'Courier New',monospace\">\n",
       "</pre>\n"
      ],
      "text/plain": [
       "\n"
      ]
     },
     "metadata": {},
     "output_type": "display_data"
    },
    {
     "name": "stderr",
     "output_type": "stream",
     "text": [
      "Sampling: [y]\n"
     ]
    },
    {
     "data": {
      "text/html": [
       "<pre style=\"white-space:pre;overflow-x:auto;line-height:normal;font-family:Menlo,'DejaVu Sans Mono',consolas,'Courier New',monospace\">\n",
       "</pre>\n"
      ],
      "text/plain": [
       "\n"
      ]
     },
     "metadata": {},
     "output_type": "display_data"
    },
    {
     "name": "stderr",
     "output_type": "stream",
     "text": [
      "Sampling: [y]\n"
     ]
    },
    {
     "data": {
      "text/html": [
       "<pre style=\"white-space:pre;overflow-x:auto;line-height:normal;font-family:Menlo,'DejaVu Sans Mono',consolas,'Courier New',monospace\">\n",
       "</pre>\n"
      ],
      "text/plain": [
       "\n"
      ]
     },
     "metadata": {},
     "output_type": "display_data"
    },
    {
     "name": "stderr",
     "output_type": "stream",
     "text": [
      "Sampling: [y]\n"
     ]
    },
    {
     "name": "stdout",
     "output_type": "stream",
     "text": [
      "Calculating mean wealth for Japan in 2018\n"
     ]
    },
    {
     "data": {
      "text/html": [
       "<pre style=\"white-space:pre;overflow-x:auto;line-height:normal;font-family:Menlo,'DejaVu Sans Mono',consolas,'Courier New',monospace\">\n",
       "</pre>\n"
      ],
      "text/plain": [
       "\n"
      ]
     },
     "metadata": {},
     "output_type": "display_data"
    },
    {
     "name": "stderr",
     "output_type": "stream",
     "text": [
      "Sampling: [y]\n"
     ]
    },
    {
     "data": {
      "text/html": [
       "<pre style=\"white-space:pre;overflow-x:auto;line-height:normal;font-family:Menlo,'DejaVu Sans Mono',consolas,'Courier New',monospace\">\n",
       "</pre>\n"
      ],
      "text/plain": [
       "\n"
      ]
     },
     "metadata": {},
     "output_type": "display_data"
    },
    {
     "name": "stderr",
     "output_type": "stream",
     "text": [
      "Sampling: [y]\n"
     ]
    },
    {
     "data": {
      "text/html": [
       "<pre style=\"white-space:pre;overflow-x:auto;line-height:normal;font-family:Menlo,'DejaVu Sans Mono',consolas,'Courier New',monospace\">\n",
       "</pre>\n"
      ],
      "text/plain": [
       "\n"
      ]
     },
     "metadata": {},
     "output_type": "display_data"
    },
    {
     "name": "stderr",
     "output_type": "stream",
     "text": [
      "Sampling: [y]\n"
     ]
    },
    {
     "name": "stdout",
     "output_type": "stream",
     "text": [
      "Calculating mean wealth for Russia in 2018\n"
     ]
    },
    {
     "data": {
      "text/html": [
       "<pre style=\"white-space:pre;overflow-x:auto;line-height:normal;font-family:Menlo,'DejaVu Sans Mono',consolas,'Courier New',monospace\">\n",
       "</pre>\n"
      ],
      "text/plain": [
       "\n"
      ]
     },
     "metadata": {},
     "output_type": "display_data"
    },
    {
     "name": "stderr",
     "output_type": "stream",
     "text": [
      "Sampling: [y]\n"
     ]
    },
    {
     "data": {
      "text/html": [
       "<pre style=\"white-space:pre;overflow-x:auto;line-height:normal;font-family:Menlo,'DejaVu Sans Mono',consolas,'Courier New',monospace\">\n",
       "</pre>\n"
      ],
      "text/plain": [
       "\n"
      ]
     },
     "metadata": {},
     "output_type": "display_data"
    },
    {
     "name": "stderr",
     "output_type": "stream",
     "text": [
      "Sampling: [y]\n"
     ]
    },
    {
     "data": {
      "text/html": [
       "<pre style=\"white-space:pre;overflow-x:auto;line-height:normal;font-family:Menlo,'DejaVu Sans Mono',consolas,'Courier New',monospace\">\n",
       "</pre>\n"
      ],
      "text/plain": [
       "\n"
      ]
     },
     "metadata": {},
     "output_type": "display_data"
    },
    {
     "name": "stderr",
     "output_type": "stream",
     "text": [
      "Sampling: [y]\n"
     ]
    },
    {
     "name": "stdout",
     "output_type": "stream",
     "text": [
      "Calculating mean wealth for Scandinavia in 2018\n"
     ]
    },
    {
     "data": {
      "text/html": [
       "<pre style=\"white-space:pre;overflow-x:auto;line-height:normal;font-family:Menlo,'DejaVu Sans Mono',consolas,'Courier New',monospace\">\n",
       "</pre>\n"
      ],
      "text/plain": [
       "\n"
      ]
     },
     "metadata": {},
     "output_type": "display_data"
    },
    {
     "name": "stderr",
     "output_type": "stream",
     "text": [
      "Sampling: [y]\n"
     ]
    },
    {
     "data": {
      "text/html": [
       "<pre style=\"white-space:pre;overflow-x:auto;line-height:normal;font-family:Menlo,'DejaVu Sans Mono',consolas,'Courier New',monospace\">\n",
       "</pre>\n"
      ],
      "text/plain": [
       "\n"
      ]
     },
     "metadata": {},
     "output_type": "display_data"
    },
    {
     "name": "stderr",
     "output_type": "stream",
     "text": [
      "Sampling: [y]\n"
     ]
    },
    {
     "data": {
      "text/html": [
       "<pre style=\"white-space:pre;overflow-x:auto;line-height:normal;font-family:Menlo,'DejaVu Sans Mono',consolas,'Courier New',monospace\">\n",
       "</pre>\n"
      ],
      "text/plain": [
       "\n"
      ]
     },
     "metadata": {},
     "output_type": "display_data"
    },
    {
     "name": "stderr",
     "output_type": "stream",
     "text": [
      "Sampling: [y]\n"
     ]
    },
    {
     "name": "stdout",
     "output_type": "stream",
     "text": [
      "Calculating mean wealth for South Korea in 2018\n"
     ]
    },
    {
     "data": {
      "text/html": [
       "<pre style=\"white-space:pre;overflow-x:auto;line-height:normal;font-family:Menlo,'DejaVu Sans Mono',consolas,'Courier New',monospace\">\n",
       "</pre>\n"
      ],
      "text/plain": [
       "\n"
      ]
     },
     "metadata": {},
     "output_type": "display_data"
    },
    {
     "name": "stderr",
     "output_type": "stream",
     "text": [
      "Sampling: [y]\n"
     ]
    },
    {
     "data": {
      "text/html": [
       "<pre style=\"white-space:pre;overflow-x:auto;line-height:normal;font-family:Menlo,'DejaVu Sans Mono',consolas,'Courier New',monospace\">\n",
       "</pre>\n"
      ],
      "text/plain": [
       "\n"
      ]
     },
     "metadata": {},
     "output_type": "display_data"
    },
    {
     "name": "stderr",
     "output_type": "stream",
     "text": [
      "Sampling: [y]\n"
     ]
    },
    {
     "data": {
      "text/html": [
       "<pre style=\"white-space:pre;overflow-x:auto;line-height:normal;font-family:Menlo,'DejaVu Sans Mono',consolas,'Courier New',monospace\">\n",
       "</pre>\n"
      ],
      "text/plain": [
       "\n"
      ]
     },
     "metadata": {},
     "output_type": "display_data"
    },
    {
     "name": "stderr",
     "output_type": "stream",
     "text": [
      "Sampling: [y]\n"
     ]
    },
    {
     "name": "stdout",
     "output_type": "stream",
     "text": [
      "Calculating mean wealth for Southeast Asia in 2018\n"
     ]
    },
    {
     "data": {
      "text/html": [
       "<pre style=\"white-space:pre;overflow-x:auto;line-height:normal;font-family:Menlo,'DejaVu Sans Mono',consolas,'Courier New',monospace\">\n",
       "</pre>\n"
      ],
      "text/plain": [
       "\n"
      ]
     },
     "metadata": {},
     "output_type": "display_data"
    },
    {
     "name": "stderr",
     "output_type": "stream",
     "text": [
      "Sampling: [y]\n"
     ]
    },
    {
     "data": {
      "text/html": [
       "<pre style=\"white-space:pre;overflow-x:auto;line-height:normal;font-family:Menlo,'DejaVu Sans Mono',consolas,'Courier New',monospace\">\n",
       "</pre>\n"
      ],
      "text/plain": [
       "\n"
      ]
     },
     "metadata": {},
     "output_type": "display_data"
    },
    {
     "name": "stderr",
     "output_type": "stream",
     "text": [
      "Sampling: [y]\n"
     ]
    },
    {
     "data": {
      "text/html": [
       "<pre style=\"white-space:pre;overflow-x:auto;line-height:normal;font-family:Menlo,'DejaVu Sans Mono',consolas,'Courier New',monospace\">\n",
       "</pre>\n"
      ],
      "text/plain": [
       "\n"
      ]
     },
     "metadata": {},
     "output_type": "display_data"
    },
    {
     "name": "stderr",
     "output_type": "stream",
     "text": [
      "Sampling: [y]\n"
     ]
    },
    {
     "name": "stdout",
     "output_type": "stream",
     "text": [
      "Calculating mean wealth for U.S. in 2018\n"
     ]
    },
    {
     "data": {
      "text/html": [
       "<pre style=\"white-space:pre;overflow-x:auto;line-height:normal;font-family:Menlo,'DejaVu Sans Mono',consolas,'Courier New',monospace\">\n",
       "</pre>\n"
      ],
      "text/plain": [
       "\n"
      ]
     },
     "metadata": {},
     "output_type": "display_data"
    },
    {
     "name": "stderr",
     "output_type": "stream",
     "text": [
      "Sampling: [y]\n"
     ]
    },
    {
     "data": {
      "text/html": [
       "<pre style=\"white-space:pre;overflow-x:auto;line-height:normal;font-family:Menlo,'DejaVu Sans Mono',consolas,'Courier New',monospace\">\n",
       "</pre>\n"
      ],
      "text/plain": [
       "\n"
      ]
     },
     "metadata": {},
     "output_type": "display_data"
    },
    {
     "name": "stderr",
     "output_type": "stream",
     "text": [
      "Sampling: [y]\n"
     ]
    },
    {
     "data": {
      "text/html": [
       "<pre style=\"white-space:pre;overflow-x:auto;line-height:normal;font-family:Menlo,'DejaVu Sans Mono',consolas,'Courier New',monospace\">\n",
       "</pre>\n"
      ],
      "text/plain": [
       "\n"
      ]
     },
     "metadata": {},
     "output_type": "display_data"
    }
   ],
   "source": [
    "mean_wealth = {}\n",
    "years = df['year'].unique()\n",
    "for year in years:\n",
    "    if year != 2018: # Only 2018 for now\n",
    "        continue\n",
    "    mean_wealth[year] = {}\n",
    "    for group in groups:\n",
    "        print(f\"Calculating mean wealth for {group} in {year}\")\n",
    "        model_pareto = train_or_retrieve_model(df, group, year, 'Pareto')\n",
    "        model_weibull = train_or_retrieve_model(df, group, year, 'Weibull')\n",
    "        model_generalisedpareto = train_or_retrieve_model(df, group, year, 'GeneralisedPareto')\n",
    "        post_pred_pareto = model_pareto.posterior_predictive(progressbar=False)\n",
    "        post_pred_weibull = model_weibull.posterior_predictive(progressbar=False)\n",
    "        post_pred_generalisedpareto = model_generalisedpareto.posterior_predictive(progressbar=False)\n",
    "        mean_data = np.array(df[(df['year'] == year) & (df['group'] == group)]['net_worth'].iloc[0]).mean()\n",
    "        mean_wealth[year][group] = {\n",
    "            'mean_data': mean_data,\n",
    "            'mean_pareto': post_pred_pareto.mean(),\n",
    "            'mean_weibull': post_pred_weibull.mean(),\n",
    "            'mean_generalisedpareto': post_pred_generalisedpareto.mean()\n",
    "        }"
   ]
  },
  {
   "cell_type": "code",
   "execution_count": 11,
   "metadata": {},
   "outputs": [],
   "source": [
    "mean_predictions_df = pd.DataFrame(mean_wealth[2018]).T"
   ]
  },
  {
   "cell_type": "code",
   "execution_count": 12,
   "metadata": {},
   "outputs": [
    {
     "data": {
      "text/html": [
       "<div>\n",
       "<style scoped>\n",
       "    .dataframe tbody tr th:only-of-type {\n",
       "        vertical-align: middle;\n",
       "    }\n",
       "\n",
       "    .dataframe tbody tr th {\n",
       "        vertical-align: top;\n",
       "    }\n",
       "\n",
       "    .dataframe thead th {\n",
       "        text-align: right;\n",
       "    }\n",
       "</style>\n",
       "<table border=\"1\" class=\"dataframe\">\n",
       "  <thead>\n",
       "    <tr style=\"text-align: right;\">\n",
       "      <th></th>\n",
       "      <th>mean_data</th>\n",
       "      <th>mean_pareto</th>\n",
       "      <th>mean_weibull</th>\n",
       "      <th>mean_generalisedpareto</th>\n",
       "    </tr>\n",
       "  </thead>\n",
       "  <tbody>\n",
       "    <tr>\n",
       "      <th>Alps</th>\n",
       "      <td>3.802222</td>\n",
       "      <td>94.405551</td>\n",
       "      <td>3.774346</td>\n",
       "      <td>4.753531</td>\n",
       "    </tr>\n",
       "    <tr>\n",
       "      <th>Asian Islands</th>\n",
       "      <td>3.167164</td>\n",
       "      <td>8.606723</td>\n",
       "      <td>3.100595</td>\n",
       "      <td>4.017254</td>\n",
       "    </tr>\n",
       "    <tr>\n",
       "      <th>Australia</th>\n",
       "      <td>2.741860</td>\n",
       "      <td>9.993671</td>\n",
       "      <td>2.726677</td>\n",
       "      <td>3.471403</td>\n",
       "    </tr>\n",
       "    <tr>\n",
       "      <th>Brazil</th>\n",
       "      <td>4.200000</td>\n",
       "      <td>27.956026</td>\n",
       "      <td>4.054421</td>\n",
       "      <td>5.264703</td>\n",
       "    </tr>\n",
       "    <tr>\n",
       "      <th>British Islands</th>\n",
       "      <td>3.826984</td>\n",
       "      <td>24.032562</td>\n",
       "      <td>3.803741</td>\n",
       "      <td>4.858240</td>\n",
       "    </tr>\n",
       "    <tr>\n",
       "      <th>Canada</th>\n",
       "      <td>3.228261</td>\n",
       "      <td>15.887571</td>\n",
       "      <td>3.143112</td>\n",
       "      <td>4.346145</td>\n",
       "    </tr>\n",
       "    <tr>\n",
       "      <th>China</th>\n",
       "      <td>3.310023</td>\n",
       "      <td>5.323206</td>\n",
       "      <td>3.087295</td>\n",
       "      <td>4.014662</td>\n",
       "    </tr>\n",
       "    <tr>\n",
       "      <th>France</th>\n",
       "      <td>7.438636</td>\n",
       "      <td>159.290223</td>\n",
       "      <td>6.668744</td>\n",
       "      <td>9.632544</td>\n",
       "    </tr>\n",
       "    <tr>\n",
       "      <th>Germany</th>\n",
       "      <td>4.704878</td>\n",
       "      <td>322.773878</td>\n",
       "      <td>4.658608</td>\n",
       "      <td>5.320438</td>\n",
       "    </tr>\n",
       "    <tr>\n",
       "      <th>India</th>\n",
       "      <td>3.698319</td>\n",
       "      <td>17.356010</td>\n",
       "      <td>3.610512</td>\n",
       "      <td>4.198256</td>\n",
       "    </tr>\n",
       "    <tr>\n",
       "      <th>Israel + Turkey</th>\n",
       "      <td>2.173214</td>\n",
       "      <td>5.383948</td>\n",
       "      <td>2.191781</td>\n",
       "      <td>2.670377</td>\n",
       "    </tr>\n",
       "    <tr>\n",
       "      <th>Italy</th>\n",
       "      <td>3.962791</td>\n",
       "      <td>58.164069</td>\n",
       "      <td>3.902790</td>\n",
       "      <td>7.447026</td>\n",
       "    </tr>\n",
       "    <tr>\n",
       "      <th>Japan</th>\n",
       "      <td>3.945714</td>\n",
       "      <td>33.388792</td>\n",
       "      <td>3.769817</td>\n",
       "      <td>5.397951</td>\n",
       "    </tr>\n",
       "    <tr>\n",
       "      <th>Russia</th>\n",
       "      <td>4.052475</td>\n",
       "      <td>19.414524</td>\n",
       "      <td>3.916417</td>\n",
       "      <td>9.083029</td>\n",
       "    </tr>\n",
       "    <tr>\n",
       "      <th>Scandinavia</th>\n",
       "      <td>3.506349</td>\n",
       "      <td>23.236606</td>\n",
       "      <td>3.516160</td>\n",
       "      <td>4.390934</td>\n",
       "    </tr>\n",
       "    <tr>\n",
       "      <th>South Korea</th>\n",
       "      <td>2.881818</td>\n",
       "      <td>8.161903</td>\n",
       "      <td>2.810705</td>\n",
       "      <td>3.584268</td>\n",
       "    </tr>\n",
       "    <tr>\n",
       "      <th>Southeast Asia</th>\n",
       "      <td>3.327273</td>\n",
       "      <td>23.876160</td>\n",
       "      <td>3.299826</td>\n",
       "      <td>4.753336</td>\n",
       "    </tr>\n",
       "    <tr>\n",
       "      <th>U.S.</th>\n",
       "      <td>5.287884</td>\n",
       "      <td>78.184391</td>\n",
       "      <td>4.982412</td>\n",
       "      <td>5.180683</td>\n",
       "    </tr>\n",
       "  </tbody>\n",
       "</table>\n",
       "</div>"
      ],
      "text/plain": [
       "                 mean_data  mean_pareto  mean_weibull  mean_generalisedpareto\n",
       "Alps              3.802222    94.405551      3.774346                4.753531\n",
       "Asian Islands     3.167164     8.606723      3.100595                4.017254\n",
       "Australia         2.741860     9.993671      2.726677                3.471403\n",
       "Brazil            4.200000    27.956026      4.054421                5.264703\n",
       "British Islands   3.826984    24.032562      3.803741                4.858240\n",
       "Canada            3.228261    15.887571      3.143112                4.346145\n",
       "China             3.310023     5.323206      3.087295                4.014662\n",
       "France            7.438636   159.290223      6.668744                9.632544\n",
       "Germany           4.704878   322.773878      4.658608                5.320438\n",
       "India             3.698319    17.356010      3.610512                4.198256\n",
       "Israel + Turkey   2.173214     5.383948      2.191781                2.670377\n",
       "Italy             3.962791    58.164069      3.902790                7.447026\n",
       "Japan             3.945714    33.388792      3.769817                5.397951\n",
       "Russia            4.052475    19.414524      3.916417                9.083029\n",
       "Scandinavia       3.506349    23.236606      3.516160                4.390934\n",
       "South Korea       2.881818     8.161903      2.810705                3.584268\n",
       "Southeast Asia    3.327273    23.876160      3.299826                4.753336\n",
       "U.S.              5.287884    78.184391      4.982412                5.180683"
      ]
     },
     "execution_count": 12,
     "metadata": {},
     "output_type": "execute_result"
    }
   ],
   "source": [
    "mean_predictions_df"
   ]
  },
  {
   "cell_type": "code",
   "execution_count": null,
   "metadata": {},
   "outputs": [],
   "source": []
  }
 ],
 "metadata": {
  "kernelspec": {
   "display_name": "thesis_venv",
   "language": "python",
   "name": "python3"
  },
  "language_info": {
   "codemirror_mode": {
    "name": "ipython",
    "version": 3
   },
   "file_extension": ".py",
   "mimetype": "text/x-python",
   "name": "python",
   "nbconvert_exporter": "python",
   "pygments_lexer": "ipython3",
   "version": "3.12.3"
  }
 },
 "nbformat": 4,
 "nbformat_minor": 2
}

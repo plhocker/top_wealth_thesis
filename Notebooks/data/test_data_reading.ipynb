{
 "cells": [
  {
   "cell_type": "code",
   "execution_count": 1,
   "metadata": {},
   "outputs": [],
   "source": [
    "from thesis_tools.utils.data import *"
   ]
  },
  {
   "cell_type": "code",
   "execution_count": 2,
   "metadata": {},
   "outputs": [
    {
     "data": {
      "text/html": [
       "<div>\n",
       "<style scoped>\n",
       "    .dataframe tbody tr th:only-of-type {\n",
       "        vertical-align: middle;\n",
       "    }\n",
       "\n",
       "    .dataframe tbody tr th {\n",
       "        vertical-align: top;\n",
       "    }\n",
       "\n",
       "    .dataframe thead th {\n",
       "        text-align: right;\n",
       "    }\n",
       "</style>\n",
       "<table border=\"1\" class=\"dataframe\">\n",
       "  <thead>\n",
       "    <tr style=\"text-align: right;\">\n",
       "      <th></th>\n",
       "      <th>Adj_Close_MSCI</th>\n",
       "      <th>Adj_Close_SPX</th>\n",
       "    </tr>\n",
       "    <tr>\n",
       "      <th>Date</th>\n",
       "      <th></th>\n",
       "      <th></th>\n",
       "    </tr>\n",
       "  </thead>\n",
       "  <tbody>\n",
       "    <tr>\n",
       "      <th>1985-01-31</th>\n",
       "      <td>195.899994</td>\n",
       "      <td>179.630005</td>\n",
       "    </tr>\n",
       "    <tr>\n",
       "      <th>1985-02-28</th>\n",
       "      <td>197.800003</td>\n",
       "      <td>181.179993</td>\n",
       "    </tr>\n",
       "    <tr>\n",
       "      <th>1985-03-31</th>\n",
       "      <td>203.300003</td>\n",
       "      <td>180.660004</td>\n",
       "    </tr>\n",
       "    <tr>\n",
       "      <th>1985-04-30</th>\n",
       "      <td>201.500000</td>\n",
       "      <td>179.830002</td>\n",
       "    </tr>\n",
       "    <tr>\n",
       "      <th>1985-05-31</th>\n",
       "      <td>212.100006</td>\n",
       "      <td>189.550003</td>\n",
       "    </tr>\n",
       "    <tr>\n",
       "      <th>...</th>\n",
       "      <td>...</td>\n",
       "      <td>...</td>\n",
       "    </tr>\n",
       "    <tr>\n",
       "      <th>2024-02-29</th>\n",
       "      <td>3364.000000</td>\n",
       "      <td>5096.270020</td>\n",
       "    </tr>\n",
       "    <tr>\n",
       "      <th>2024-03-31</th>\n",
       "      <td>3436.800049</td>\n",
       "      <td>5254.350098</td>\n",
       "    </tr>\n",
       "    <tr>\n",
       "      <th>2024-04-30</th>\n",
       "      <td>3361.399902</td>\n",
       "      <td>5035.689941</td>\n",
       "    </tr>\n",
       "    <tr>\n",
       "      <th>2024-05-31</th>\n",
       "      <td>3445.199951</td>\n",
       "      <td>5277.509766</td>\n",
       "    </tr>\n",
       "    <tr>\n",
       "      <th>2024-06-30</th>\n",
       "      <td>3445.169922</td>\n",
       "      <td>NaN</td>\n",
       "    </tr>\n",
       "  </tbody>\n",
       "</table>\n",
       "<p>474 rows × 2 columns</p>\n",
       "</div>"
      ],
      "text/plain": [
       "            Adj_Close_MSCI  Adj_Close_SPX\n",
       "Date                                     \n",
       "1985-01-31      195.899994     179.630005\n",
       "1985-02-28      197.800003     181.179993\n",
       "1985-03-31      203.300003     180.660004\n",
       "1985-04-30      201.500000     179.830002\n",
       "1985-05-31      212.100006     189.550003\n",
       "...                    ...            ...\n",
       "2024-02-29     3364.000000    5096.270020\n",
       "2024-03-31     3436.800049    5254.350098\n",
       "2024-04-30     3361.399902    5035.689941\n",
       "2024-05-31     3445.199951    5277.509766\n",
       "2024-06-30     3445.169922            NaN\n",
       "\n",
       "[474 rows x 2 columns]"
      ]
     },
     "execution_count": 2,
     "metadata": {},
     "output_type": "execute_result"
    }
   ],
   "source": [
    "read_stock_market_data()"
   ]
  },
  {
   "cell_type": "markdown",
   "metadata": {},
   "source": [
    "DAX"
   ]
  },
  {
   "cell_type": "markdown",
   "metadata": {},
   "source": [
    "FTSE100"
   ]
  },
  {
   "cell_type": "markdown",
   "metadata": {},
   "source": [
    "MOEX"
   ]
  },
  {
   "cell_type": "markdown",
   "metadata": {},
   "source": [
    "NIFTY"
   ]
  },
  {
   "cell_type": "markdown",
   "metadata": {},
   "source": [
    "OMX40"
   ]
  },
  {
   "cell_type": "markdown",
   "metadata": {},
   "source": []
  }
 ],
 "metadata": {
  "kernelspec": {
   "display_name": "thesis_venv",
   "language": "python",
   "name": "python3"
  },
  "language_info": {
   "codemirror_mode": {
    "name": "ipython",
    "version": 3
   },
   "file_extension": ".py",
   "mimetype": "text/x-python",
   "name": "python",
   "nbconvert_exporter": "python",
   "pygments_lexer": "ipython3",
   "version": "3.12.3"
  }
 },
 "nbformat": 4,
 "nbformat_minor": 2
}

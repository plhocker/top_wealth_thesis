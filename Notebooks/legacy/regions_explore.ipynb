{
 "cells": [
  {
   "cell_type": "code",
   "execution_count": 1,
   "metadata": {},
   "outputs": [],
   "source": [
    "import numpy as np\n",
    "import pandas as pd"
   ]
  },
  {
   "cell_type": "code",
   "execution_count": 2,
   "metadata": {},
   "outputs": [],
   "source": [
    "df = pd.read_csv('../../Data/regions/regions.csv')"
   ]
  },
  {
   "cell_type": "code",
   "execution_count": 3,
   "metadata": {},
   "outputs": [
    {
     "data": {
      "text/html": [
       "<div>\n",
       "<style scoped>\n",
       "    .dataframe tbody tr th:only-of-type {\n",
       "        vertical-align: middle;\n",
       "    }\n",
       "\n",
       "    .dataframe tbody tr th {\n",
       "        vertical-align: top;\n",
       "    }\n",
       "\n",
       "    .dataframe thead th {\n",
       "        text-align: right;\n",
       "    }\n",
       "</style>\n",
       "<table border=\"1\" class=\"dataframe\">\n",
       "  <thead>\n",
       "    <tr style=\"text-align: right;\">\n",
       "      <th></th>\n",
       "      <th>Unnamed: 0</th>\n",
       "      <th>citizenship</th>\n",
       "      <th>region</th>\n",
       "      <th>subregion</th>\n",
       "    </tr>\n",
       "  </thead>\n",
       "  <tbody>\n",
       "    <tr>\n",
       "      <th>0</th>\n",
       "      <td>1</td>\n",
       "      <td>United States</td>\n",
       "      <td>N-America</td>\n",
       "      <td>us</td>\n",
       "    </tr>\n",
       "    <tr>\n",
       "      <th>1</th>\n",
       "      <td>2</td>\n",
       "      <td>Germany</td>\n",
       "      <td>EU</td>\n",
       "      <td>germany</td>\n",
       "    </tr>\n",
       "    <tr>\n",
       "      <th>2</th>\n",
       "      <td>3</td>\n",
       "      <td>Saudi Arabia</td>\n",
       "      <td>Mid-East</td>\n",
       "      <td>0</td>\n",
       "    </tr>\n",
       "    <tr>\n",
       "      <th>3</th>\n",
       "      <td>4</td>\n",
       "      <td>Canada</td>\n",
       "      <td>N-America</td>\n",
       "      <td>canada</td>\n",
       "    </tr>\n",
       "    <tr>\n",
       "      <th>4</th>\n",
       "      <td>5</td>\n",
       "      <td>France</td>\n",
       "      <td>EU</td>\n",
       "      <td>france</td>\n",
       "    </tr>\n",
       "    <tr>\n",
       "      <th>...</th>\n",
       "      <td>...</td>\n",
       "      <td>...</td>\n",
       "      <td>...</td>\n",
       "      <td>...</td>\n",
       "    </tr>\n",
       "    <tr>\n",
       "      <th>80</th>\n",
       "      <td>81</td>\n",
       "      <td>Zimbabwe</td>\n",
       "      <td>ROW</td>\n",
       "      <td>ROW</td>\n",
       "    </tr>\n",
       "    <tr>\n",
       "      <th>81</th>\n",
       "      <td>82</td>\n",
       "      <td>Hungary</td>\n",
       "      <td>EU</td>\n",
       "      <td>0</td>\n",
       "    </tr>\n",
       "    <tr>\n",
       "      <th>82</th>\n",
       "      <td>83</td>\n",
       "      <td>Czechia</td>\n",
       "      <td>EU</td>\n",
       "      <td>.</td>\n",
       "    </tr>\n",
       "    <tr>\n",
       "      <th>83</th>\n",
       "      <td>84</td>\n",
       "      <td>Eswatini (Swaziland)</td>\n",
       "      <td>ROW</td>\n",
       "      <td>.</td>\n",
       "    </tr>\n",
       "    <tr>\n",
       "      <th>84</th>\n",
       "      <td>85</td>\n",
       "      <td>Macao</td>\n",
       "      <td>China</td>\n",
       "      <td>china</td>\n",
       "    </tr>\n",
       "  </tbody>\n",
       "</table>\n",
       "<p>85 rows × 4 columns</p>\n",
       "</div>"
      ],
      "text/plain": [
       "    Unnamed: 0           citizenship     region subregion\n",
       "0            1         United States  N-America        us\n",
       "1            2               Germany         EU   germany\n",
       "2            3          Saudi Arabia   Mid-East         0\n",
       "3            4                Canada  N-America    canada\n",
       "4            5                France         EU    france\n",
       "..         ...                   ...        ...       ...\n",
       "80          81              Zimbabwe        ROW       ROW\n",
       "81          82               Hungary         EU         0\n",
       "82          83               Czechia         EU         .\n",
       "83          84  Eswatini (Swaziland)        ROW         .\n",
       "84          85                 Macao      China     china\n",
       "\n",
       "[85 rows x 4 columns]"
      ]
     },
     "execution_count": 3,
     "metadata": {},
     "output_type": "execute_result"
    }
   ],
   "source": [
    "df"
   ]
  },
  {
   "cell_type": "code",
   "execution_count": 6,
   "metadata": {},
   "outputs": [],
   "source": [
    "# For each region, make a list of the countries in that region\n",
    "regions = df['region'].unique()\n",
    "sub_regions = df['subregion'].unique()\n",
    "countries_per_region = {}\n",
    "for region in regions:\n",
    "    countries_per_region[region] = df[df['region'] == region]['citizenship'].values\n",
    "\n",
    "\n",
    "countries_per_subregion = {}\n",
    "for subregion in sub_regions:\n",
    "    countries_per_subregion[subregion] = df[df['subregion'] == subregion]['citizenship'].values\n",
    "\n"
   ]
  },
  {
   "cell_type": "code",
   "execution_count": 7,
   "metadata": {},
   "outputs": [
    {
     "data": {
      "text/plain": [
       "{'N-America': array(['United States', 'Canada'], dtype=object),\n",
       " 'EU': array(['Germany', 'France', 'Sweden', 'Switzerland', 'Italy', 'Spain',\n",
       "        'United Kingdom', 'Greece', 'Netherlands', 'Denmark', 'Ireland',\n",
       "        'Portugal', 'Norway', 'Liechtenstein', 'Belgium', 'Egypt',\n",
       "        'Austria', 'Iceland', 'Poland', 'Monaco', 'Czech Republic',\n",
       "        'Cyprus', 'Romania', 'Serbia', 'Finland', 'Guernsey', 'Lithuania',\n",
       "        'Slovakia', 'Hungary', 'Czechia'], dtype=object),\n",
       " 'Mid-East': array(['Saudi Arabia', 'Kuwait', 'Israel', 'Turkey', 'Lebanon', 'UAE',\n",
       "        'United Arab Emirates', 'Oman', 'Qatar'], dtype=object),\n",
       " 'China': array(['Hong Kong', 'China', 'Macau', 'Macao'], dtype=object),\n",
       " 'S-America': array(['Mexico', 'Venezuela', 'Brazil', 'Bermuda', 'Argentina',\n",
       "        'Colombia', 'Chile', 'Belize', 'Peru', 'Guatemala'], dtype=object),\n",
       " 'E-Asia': array(['Japan', 'Taiwan', 'Malaysia', 'Singapore', 'Australia',\n",
       "        'Indonesia', 'South Korea', 'Philippines', 'Thailand', 'Vietnam'],\n",
       "       dtype=object),\n",
       " 'India': array(['India'], dtype=object),\n",
       " 'ROW': array(['South Africa', 'New Zealand', 'Nigeria', 'Pakistan', nan,\n",
       "        'Morocco', 'St. Kitts and Nevis', 'Swaziland', 'Angola', 'Nepal',\n",
       "        'Algeria', 'Uganda', 'Tanzania', 'Zimbabwe',\n",
       "        'Eswatini (Swaziland)'], dtype=object),\n",
       " 'C-Eurasia': array(['Russia', 'Ukraine', 'Kazakhstan', 'Georgia'], dtype=object)}"
      ]
     },
     "execution_count": 7,
     "metadata": {},
     "output_type": "execute_result"
    }
   ],
   "source": [
    "countries_per_region"
   ]
  },
  {
   "cell_type": "code",
   "execution_count": 8,
   "metadata": {},
   "outputs": [
    {
     "data": {
      "text/plain": [
       "{'us': array(['United States'], dtype=object),\n",
       " 'germany': array(['Germany'], dtype=object),\n",
       " '0': array(['Saudi Arabia', 'Mexico', 'Spain', 'Kuwait', 'Venezuela', 'Greece',\n",
       "        'Netherlands', 'Lebanon', 'Bermuda', 'Portugal', 'UAE',\n",
       "        'Argentina', 'Colombia', 'Chile', 'Egypt', 'New Zealand',\n",
       "        'United Arab Emirates', 'Ukraine', 'Iceland', 'Kazakhstan',\n",
       "        'Poland', 'Czech Republic', 'Cyprus', 'Oman', 'Romania', 'Serbia',\n",
       "        'Belize', nan, 'Georgia', 'Peru', 'Guernsey', 'Vietnam',\n",
       "        'Lithuania', 'Guatemala', 'Qatar', 'Slovakia', 'Hungary'],\n",
       "       dtype=object),\n",
       " 'canada': array(['Canada'], dtype=object),\n",
       " 'france': array(['France', 'Monaco'], dtype=object),\n",
       " 'scanavia': array(['Sweden', 'Denmark', 'Norway', 'Finland'], dtype=object),\n",
       " 'china': array(['Hong Kong', 'China', 'Macau', 'Macao'], dtype=object),\n",
       " 'alp-count': array(['Switzerland', 'Liechtenstein', 'Belgium', 'Austria'], dtype=object),\n",
       " 'italy': array(['Italy'], dtype=object),\n",
       " 'japan': array(['Japan'], dtype=object),\n",
       " 'india': array(['India'], dtype=object),\n",
       " 'brit-isl': array(['United Kingdom', 'Ireland'], dtype=object),\n",
       " 'ROW': array(['South Africa', 'Nigeria', 'Pakistan', 'Morocco',\n",
       "        'St. Kitts and Nevis', 'Swaziland', 'Angola', 'Nepal', 'Algeria',\n",
       "        'Uganda', 'Tanzania', 'Zimbabwe'], dtype=object),\n",
       " 'asia-isl': array(['Taiwan', 'Indonesia', 'Philippines'], dtype=object),\n",
       " 'isr-turky': array(['Israel', 'Turkey'], dtype=object),\n",
       " 'se-asia': array(['Malaysia', 'Singapore', 'Thailand'], dtype=object),\n",
       " 'brazil': array(['Brazil'], dtype=object),\n",
       " 'australia': array(['Australia'], dtype=object),\n",
       " 'russia': array(['Russia'], dtype=object),\n",
       " 's-korea': array(['South Korea'], dtype=object),\n",
       " '.': array(['Czechia', 'Eswatini (Swaziland)'], dtype=object)}"
      ]
     },
     "execution_count": 8,
     "metadata": {},
     "output_type": "execute_result"
    }
   ],
   "source": [
    "countries_per_subregion"
   ]
  },
  {
   "cell_type": "code",
   "execution_count": null,
   "metadata": {},
   "outputs": [],
   "source": []
  }
 ],
 "metadata": {
  "kernelspec": {
   "display_name": "thesis_venv",
   "language": "python",
   "name": "python3"
  },
  "language_info": {
   "codemirror_mode": {
    "name": "ipython",
    "version": 3
   },
   "file_extension": ".py",
   "mimetype": "text/x-python",
   "name": "python",
   "nbconvert_exporter": "python",
   "pygments_lexer": "ipython3",
   "version": "3.12.3"
  }
 },
 "nbformat": 4,
 "nbformat_minor": 2
}
